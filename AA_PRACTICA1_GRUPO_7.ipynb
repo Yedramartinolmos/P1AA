{
  "cells": [
    {
      "cell_type": "markdown",
      "source": [
        "\n",
        "\n",
        "**GRUPO <7>**\n",
        "\n",
        "Pilar Arias, Álvaro García Cid, Yedra Martín, Amaya Sarasa\n"
      ],
      "metadata": {
        "id": "jhfa3wAEv8Ho"
      },
      "id": "jhfa3wAEv8Ho"
    },
    {
      "cell_type": "markdown",
      "source": [
        "# Diseño, Entrenamiento y Test de un Sistema de Redes de Neuronas Artificiales.\n",
        "\n",
        "Crearemos un modelo de Red de Neuronas Artificiales que sea capaz de reconocer y clasificar\n",
        "imágenes de ropa en sus diferentes tipologías. \n",
        "\n",
        "Este modelo será definido, configurado,\n",
        "entrenado, evaluado y mejorado para posteriormente usarlo para hacer predicciones.\n",
        "\n",
        "Para ello creareos un modelo en Keras haciendo uso del conjunto de datos Fashion-MNIST.\n",
        "\n",
        "Fashion-MNIST es un conjunto de datos de las imágenes de los artículos de Zalando\n",
        "(www.zalando.com), una tienda de moda online alemana especializada en ventas de\n",
        "ropa y zapatos. El conjunto de datos contiene 70K imágenes en escala de grises en 10\n",
        "categorías. Estas imágenes muestran prendas individuales de ropa en baja resolución\n",
        "(28 x 28 píxeles):\n",
        "<table>\n",
        "  <tr><td>\n",
        "    <img src=\"https://tensorflow.org/images/fashion-mnist-sprite.png\"\n",
        "         alt=\"Fashion MNIST sprite\"  width=\"600\">\n",
        "  </td></tr>\n",
        "  <tr><td align=\"center\">\n",
        "  </td></tr>\n",
        "</table>\n"
      ],
      "metadata": {
        "id": "ujTf3qAYdTKN"
      },
      "id": "ujTf3qAYdTKN"
    },
    {
      "cell_type": "markdown",
      "source": [
        "# Conceptos básicos\n",
        "\n",
        "**Optimizadores**: \n",
        "\n",
        "Un optimizador es una función o un algoritmo que modifica los atributos de la red neuronal, como los pesos y la tasa de aprendizaje. Por lo tanto, ayuda a reducir la pérdida general y mejorar la precisión. Vamos a trabajar con distintos optimizadores, para así estudiar el comportamiento y la diferencia entre ellos: \n",
        "\n",
        "   \n",
        "\n",
        "*   *SGD*:(Descenso del gradiante estocástico)\n",
        "    * El término estocástico significa aleatoriedad en la que se basa el algoritmo. En el descenso de gradiente estocástico, en lugar de tomar todo el conjunto de datos para cada iteración, seleccionamos aleatoriamente los lotes de datos. \n",
        "Eso significa que solo tomamos algunas muestras del conjunto de datos. Dado que no estamos utilizando todo el conjunto de datos, sino los lotes para cada iteración, la ruta tomada por el algoritmo está llena de ruido en comparación con el algoritmo de descenso de gradiente. Por lo tanto, SGD utiliza un mayor número de iteraciones para alcanzar los mínimos locales. Debido a un aumento en el número de iteraciones, el tiempo total de cálculo aumenta.\n",
        "\n",
        "*   *RMSPROP*: \n",
        "    * Utiliza el signo del gradiente adaptando el tamaño del paso individualmente para cada peso. En este algoritmo, los dos gradientes se comparan primero en busca de signos. Si tienen el mismo signo, vamos en la dirección correcta y, por lo tanto, aumentamos el tamaño del paso en una pequeña fracción. Mientras que, si tienen signos opuestos, debemos disminuir el tamaño del paso. Luego limitamos el tamaño del paso, y ahora podemos optar por la actualización del peso.\n",
        "\n",
        "*   *ADAM*: \n",
        "    * Hace uso de impulso y tasas de aprendizaje adaptativo para converger más rápido. Los resultados del optimizador de Adam son generalmente mejores que cualquier otro algoritmo de optimización, tienen un tiempo de cálculo más rápido y requieren menos parámetros para el ajuste.\n",
        "\n",
        "\n",
        "<br />\n",
        "\n",
        "**Función de activación**: \n",
        "\n",
        "Esta función define la salida de una capa según la entrada o las entradas que se va a recibir.\n",
        "\n",
        "*   *RELU*: (unidad lineal rectificada) \n",
        "    * Es capaz de acelerar la velocidad de entrenamiento de las redes neuronales profundas en comparación con las funciones de activación tradicionales, ya que la derivada de ReLu es 1 para una entrada positiva. (Pone a cero los valores negativos). Por ello la usaremos como función de activación en la primera capa.\n",
        "\n",
        "*   *SIGMOID*\n",
        "\n",
        "*   *SOFTMAX*: \n",
        "    * Se utiliza en la capa de salida para predecir una distribución de problabilidad mulinomial\n",
        "\n",
        "\n",
        "\n",
        "\n",
        "\n"
      ],
      "metadata": {
        "id": "TYRpVitFSCSs"
      },
      "id": "TYRpVitFSCSs"
    },
    {
      "cell_type": "markdown",
      "source": [
        "# Importamos librerías y datos"
      ],
      "metadata": {
        "id": "XqGD2vHv0KMd"
      },
      "id": "XqGD2vHv0KMd"
    },
    {
      "cell_type": "markdown",
      "source": [
        "Se importa Keras"
      ],
      "metadata": {
        "id": "9IItNvxmWm-L"
      },
      "id": "9IItNvxmWm-L"
    },
    {
      "cell_type": "code",
      "source": [
        "%tensorflow_version 2.x\n",
        "import tensorflow as tf\n",
        "from tensorflow import keras\n",
        "print(tf.keras.__version__)\n",
        "print(\"GPU Available:\", tf.config.list_physical_devices('GPU'))\n",
        "print(tf.__version__)"
      ],
      "metadata": {
        "id": "PvAsFfxnyspk",
        "outputId": "6188787f-3d6e-48b5-9a9a-4a47ba4c0b82",
        "colab": {
          "base_uri": "https://localhost:8080/"
        }
      },
      "id": "PvAsFfxnyspk",
      "execution_count": null,
      "outputs": [
        {
          "output_type": "stream",
          "name": "stdout",
          "text": [
            "Colab only includes TensorFlow 2.x; %tensorflow_version has no effect.\n",
            "2.9.0\n",
            "GPU Available: []\n",
            "2.9.2\n"
          ]
        }
      ]
    },
    {
      "cell_type": "markdown",
      "source": [
        "Cargamos los datos que se van a estar utilizando. Se debe diferenciar entre los datos de entrenamiento y de prueba. Es importante saber que sólo se deben utilizar los datos de prueba para las pruebas, no podemos dejar que esos datos contaminen la red neuronal, esta solo debe aprender con los datos de entrenamiento."
      ],
      "metadata": {
        "id": "WgJvnqiNZj_k"
      },
      "id": "WgJvnqiNZj_k"
    },
    {
      "cell_type": "code",
      "source": [
        "from keras.datasets import fashion_mnist\n",
        "\n",
        "(train_images, train_labels), (test_images, test_labels) = fashion_mnist.load_data()"
      ],
      "metadata": {
        "id": "2VVjNLKSzEQO"
      },
      "id": "2VVjNLKSzEQO",
      "execution_count": null,
      "outputs": []
    },
    {
      "cell_type": "markdown",
      "source": [
        "# Análisis de datos"
      ],
      "metadata": {
        "id": "xhR_gH-oI5wu"
      },
      "id": "xhR_gH-oI5wu"
    },
    {
      "cell_type": "markdown",
      "source": [
        "Comprobamos las dimensiones de los datos proporcionados:"
      ],
      "metadata": {
        "id": "1v7ZlvTDEvRt"
      },
      "id": "1v7ZlvTDEvRt"
    },
    {
      "cell_type": "code",
      "source": [
        "print(train_images.shape)"
      ],
      "metadata": {
        "id": "jvPP1zfMzfGk",
        "outputId": "6caa8106-bae7-411b-995b-4af6ac2f046d",
        "colab": {
          "base_uri": "https://localhost:8080/"
        }
      },
      "id": "jvPP1zfMzfGk",
      "execution_count": null,
      "outputs": [
        {
          "output_type": "stream",
          "name": "stdout",
          "text": [
            "(60000, 28, 28)\n"
          ]
        }
      ]
    },
    {
      "cell_type": "markdown",
      "source": [
        "Siguiendo las instrucciones del ejercicio, usaremos 60.000 imágenes para el entrenamiento, de 28*28 píxeles. Más adelante deberemos cambiar las dimensiones de las imágenes, para así poderlas entrar correctamente a la primera capa de la red neuronal. "
      ],
      "metadata": {
        "id": "bEEGhLA1E0RC"
      },
      "id": "bEEGhLA1E0RC"
    },
    {
      "cell_type": "markdown",
      "source": [
        "Comprobamos la longitud de las etiquetas para comprobar que están todas, tanto en las fotos de entrenamiento como en las del test:"
      ],
      "metadata": {
        "id": "jnnOtlNIHAlY"
      },
      "id": "jnnOtlNIHAlY"
    },
    {
      "cell_type": "code",
      "source": [
        "len(train_labels)\n"
      ],
      "metadata": {
        "id": "Pxp77ITjG9Y2",
        "outputId": "3280366a-ceef-415b-fdc0-39f64bbc6a6b",
        "colab": {
          "base_uri": "https://localhost:8080/"
        }
      },
      "id": "Pxp77ITjG9Y2",
      "execution_count": null,
      "outputs": [
        {
          "output_type": "execute_result",
          "data": {
            "text/plain": [
              "60000"
            ]
          },
          "metadata": {},
          "execution_count": 73
        }
      ]
    },
    {
      "cell_type": "code",
      "source": [
        "len(test_labels)"
      ],
      "metadata": {
        "id": "dj0KYM-2HNTx",
        "outputId": "8ce55023-1d36-4bb8-8edc-d1b18f1eb8e7",
        "colab": {
          "base_uri": "https://localhost:8080/"
        }
      },
      "id": "dj0KYM-2HNTx",
      "execution_count": null,
      "outputs": [
        {
          "output_type": "execute_result",
          "data": {
            "text/plain": [
              "10000"
            ]
          },
          "metadata": {},
          "execution_count": 74
        }
      ]
    },
    {
      "cell_type": "markdown",
      "source": [
        "Es correcto, ya que para cada imagen, se tiene asociado una etiqueta como se deseaba."
      ],
      "metadata": {
        "id": "Z6SZPQVuHR1D"
      },
      "id": "Z6SZPQVuHR1D"
    },
    {
      "cell_type": "markdown",
      "source": [
        "A continuación, probamos a ver cómo se vería representada la imagen número 999:"
      ],
      "metadata": {
        "id": "OyXYrRwmFNJD"
      },
      "id": "OyXYrRwmFNJD"
    },
    {
      "cell_type": "code",
      "source": [
        "import numpy as np\n",
        "np.set_printoptions(precision=2, suppress=True, linewidth=145)\n",
        "print(np.matrix(train_images[1000]))"
      ],
      "metadata": {
        "id": "jKbpCXLYzpJr",
        "outputId": "f9c9371b-e041-4ea2-9ca6-e217a32e3581",
        "colab": {
          "base_uri": "https://localhost:8080/"
        }
      },
      "id": "jKbpCXLYzpJr",
      "execution_count": null,
      "outputs": [
        {
          "output_type": "stream",
          "name": "stdout",
          "text": [
            "[[  0   0   0   0   0   0   0   0   0   0   0  97  84  97 110 108  87  97   0   0   0   0   0   0   0   0   0   0]\n",
            " [  0   0   0   0   0   0   0   0   0   0  19 255 199 183 142 161 200 213  32   0   0   0   0   0   0   0   0   0]\n",
            " [  0   0   0   0   0   0   0   0   0   0  72 174 173 158 131 132 176 176  70   0   0   0   0   0   0   0   0   0]\n",
            " [  0   0   0   0   0   0   0   0   0   0 142 180 163 120 180 126 139 168 122   0   0   0   0   0   0   0   0   0]\n",
            " [  0   0   0   0   0   0   0   0   0   0 156 180 162 171 170 183 163 169 144   0   0   0   0   0   0   0   0   0]\n",
            " [  0   0   0   0   0   0   0   0   0   0 159 177 163 174 166 173 170 163 148   0   0   0   0   0   0   0   0   0]\n",
            " [  0   0   0   0   0   0   0   0   0   0 160 182 160 168 175 167 157 168 139   0   0   0   0   0   0   0   0   0]\n",
            " [  0   0   0   0   0   0   0   0   0   0 143 185 161 171 184 176 160 175 131   0   0   0   0   0   0   0   0   0]\n",
            " [  0   0   0   0   0   0   0   0   0   0 143 188 155 172 182 180 161 182 127   0   0   0   0   0   0   0   0   0]\n",
            " [  0   0   0   0   0   0   0   0   0   0 127 170 168 175 211 191 163 184 113   0   0   0   0   0   0   0   0   0]\n",
            " [  0   0   0   0   0   0   0   0   0   0  78 132 175 177 129 203 161 187 102   0   0   0   0   0   0   0   0   0]\n",
            " [  0   0   0   0   0   0   0   0   0   0  91 166 163 190  63 203 159 189  94   0   0   0   0   0   0   0   0   0]\n",
            " [  0   0   0   0   0   0   0   0   0   0  98 126 166 192  65 198 167 193  84   0   0   0   0   0   0   0   0   0]\n",
            " [  0   0   0   0   0   0   0   0   0   0  90 127 170 198  61 200 174 198  71   0   0   0   0   0   0   0   0   0]\n",
            " [  0   0   0   0   0   0   0   0   0   0  93 141 151 207  55 196 171 196  58   0   0   0   0   0   0   0   0   0]\n",
            " [  0   0   0   0   0   0   0   0   0   0  88 137 136 210  54 198 173 199  46   0   0   0   0   0   0   0   0   0]\n",
            " [  0   0   0   0   0   0   0   0   0   0  72 125 131 214  55 199 176 200  38   0   0   0   0   0   0   0   0   0]\n",
            " [  0   0   0   0   0   0   0   0   0   0  56 146 126 210  56 200 175 200  37   0   0   0   0   0   0   0   0   0]\n",
            " [  0   0   0   0   0   0   0   0   0   0  40 237 171 195  64 199 174 203  36   0   0   0   0   0   0   0   0   0]\n",
            " [  0   0   0   0   0   0   0   0   0   0  23 190 168 192  70 196 171 203  30   0   0   0   0   0   0   0   0   0]\n",
            " [  0   0   0   0   0   0   0   0   0   0  15 188 171 196  70 198 173 202  21   0   0   0   0   0   0   0   0   0]\n",
            " [  0   0   0   0   0   0   0   0   0   0  11 187 172 197  71 199 174 203  15   0   0   0   0   0   0   0   0   0]\n",
            " [  0   0   0   0   0   0   0   0   0   0   1 183 175 198  73 195 174 205  13   0   0   0   0   0   0   0   0   0]\n",
            " [  0   0   0   0   0   0   0   0   0   0   0 186 177 200  78 191 175 171   8   0   0   0   0   0   0   0   0   0]\n",
            " [  0   0   0   0   0   0   0   0   0   0   0 181 177 198  78 189 176 166   4   0   0   0   0   0   0   0   0   0]\n",
            " [  0   0   0   0   0   0   0   0   0   0   0 178 182 182 107 184 175 193   0   0   0   0   0   0   0   0   0   0]\n",
            " [  0   0   0   0   0   0   0   0   0   0   0 173 200 206  84 196 196 133   0   0   0   0   0   0   0   0   0   0]\n",
            " [  0   0   0   0   0   0   0   0   0   0   0  68 207 182   0 175 195  34   0   0   0   0   0   0   0   0   0   0]]\n"
          ]
        }
      ]
    },
    {
      "cell_type": "markdown",
      "source": [
        "Se puede asemejar a una camiseta, y efectivamente, comprobando con la etiqueta que se proporciona, se está representando de manera correcta."
      ],
      "metadata": {
        "id": "CnxdhGPrFWNJ"
      },
      "id": "CnxdhGPrFWNJ"
    },
    {
      "cell_type": "code",
      "source": [
        "train_labels[1000]\n"
      ],
      "metadata": {
        "id": "MrCFcje0z9RA",
        "outputId": "048b4e94-ebe6-4e35-a329-abb01ffe1754",
        "colab": {
          "base_uri": "https://localhost:8080/"
        }
      },
      "id": "MrCFcje0z9RA",
      "execution_count": null,
      "outputs": [
        {
          "output_type": "execute_result",
          "data": {
            "text/plain": [
              "1"
            ]
          },
          "metadata": {},
          "execution_count": 76
        }
      ]
    },
    {
      "cell_type": "markdown",
      "source": [
        "Probamos otra manera de representar la imagen. "
      ],
      "metadata": {
        "id": "I1kORBYcFkaI"
      },
      "id": "I1kORBYcFkaI"
    },
    {
      "cell_type": "code",
      "source": [
        "import matplotlib.pyplot as plt\n",
        "digit = train_images[1000]\n",
        "plt.imshow(digit, cmap=plt.cm.binary)\n",
        "plt.show()"
      ],
      "metadata": {
        "id": "a0ofL4Fk0GaH",
        "outputId": "de106660-ffab-4ac9-b649-3450a9b53879",
        "colab": {
          "base_uri": "https://localhost:8080/",
          "height": 265
        }
      },
      "id": "a0ofL4Fk0GaH",
      "execution_count": null,
      "outputs": [
        {
          "output_type": "display_data",
          "data": {
            "text/plain": [
              "<Figure size 432x288 with 1 Axes>"
            ],
            "image/png": "[encoded data removed]"
          },
          "metadata": {
            "needs_background": "light"
          }
        }
      ]
    },
    {
      "cell_type": "markdown",
      "source": [
        "Analizamos cómo están distribuidos los datos.\n",
        "\n",
        "A la hora de dividirlos en aquellos que usaremos para entrenar la red neuronal y los que usaremos como prueba, idealmente querríamos una buena distribución de las imágenes de forma que haya un porcentaje similar de cada tipo de prenda, para ambos lotes. \n",
        "\n",
        "Si no estuviesen distribuidas de forma aceptable, no podríamos separar los datos de forma aleatoria."
      ],
      "metadata": {
        "id": "W-fJL0DvaObr"
      },
      "id": "W-fJL0DvaObr"
    },
    {
      "cell_type": "code",
      "source": [
        "cont=0\n",
        "cont1=0\n",
        "cont2=0\n",
        "cont3=0\n",
        "cont4=0\n",
        "cont5=0\n",
        "cont6=0\n",
        "cont7=0\n",
        "cont8=0\n",
        "cont9=0\n",
        "for i in train_labels:\n",
        "  if i==0:\n",
        "    cont=cont+1\n",
        "  elif i==1:\n",
        "    cont1=cont1+1\n",
        "  elif i==2:\n",
        "    cont2=cont2+1\n",
        "  elif i==3:\n",
        "    cont3=cont3+1\n",
        "  elif i==4:\n",
        "    cont4=cont4+1\n",
        "  elif i==5:\n",
        "    cont5=cont5+1\n",
        "  elif i==6:\n",
        "    cont6=cont6+1\n",
        "  elif i==7:\n",
        "    cont7=cont7+1\n",
        "  elif i==8:\n",
        "    cont8=cont8+1\n",
        "  elif i==9:\n",
        "    cont9=cont9+1\n",
        "print(cont,cont1,cont2,cont3,cont4,cont5,cont6,cont7,cont8,cont9)"
      ],
      "metadata": {
        "id": "D-qBEpgBbk9H"
      },
      "id": "D-qBEpgBbk9H",
      "execution_count": null,
      "outputs": []
    },
    {
      "cell_type": "markdown",
      "source": [
        "Tenemos 6.000 imágenes de cada tipo de ropa, en los datos de entrenamiento, un 10% de cada etiqueta, por lo que podemos decir que están bien distribuidos y podemos proceder."
      ],
      "metadata": {
        "id": "3rv33WiMb4Tx"
      },
      "id": "3rv33WiMb4Tx"
    },
    {
      "cell_type": "markdown",
      "source": [
        "# Preparación de datos\n"
      ],
      "metadata": {
        "id": "V1Im6RMRFwFZ"
      },
      "id": "V1Im6RMRFwFZ"
    },
    {
      "cell_type": "markdown",
      "source": [
        "Normalizamos las imágenes, y las representamos, para verificar que se ha realizado correctamente. "
      ],
      "metadata": {
        "id": "FyMykDmv2ali"
      },
      "id": "FyMykDmv2ali"
    },
    {
      "cell_type": "code",
      "source": [
        "train_images = train_images.reshape((60000, 28 * 28))\n",
        "train_images = train_images.astype('float32') / 255\n",
        "test_images = test_images.reshape((10000, 28 * 28))\n",
        "test_images = test_images.astype('float32') / 255\n",
        "print(len(train_images))\n",
        "print(train_images.shape)\n",
        "np.set_printoptions(precision=2, suppress=True, linewidth=145)\n",
        "print(np.matrix(train_images[1000]))"
      ],
      "metadata": {
        "id": "tt3cwHZ_3VC9",
        "outputId": "b3c10a4e-e3ae-4213-a01b-b53fb39c7c33",
        "colab": {
          "base_uri": "https://localhost:8080/"
        }
      },
      "id": "tt3cwHZ_3VC9",
      "execution_count": null,
      "outputs": [
        {
          "output_type": "stream",
          "name": "stdout",
          "text": [
            "60000\n",
            "(60000, 784)\n",
            "[[0.   0.   0.   0.   0.   0.   0.   0.   0.   0.   0.   0.38 0.33 0.38 0.43 0.42 0.34 0.38 0.   0.   0.   0.   0.   0.   0.   0.   0.   0.\n",
            "  0.   0.   0.   0.   0.   0.   0.   0.   0.   0.   0.07 1.   0.78 0.72 0.56 0.63 0.78 0.84 0.13 0.   0.   0.   0.   0.   0.   0.   0.   0.\n",
            "  0.   0.   0.   0.   0.   0.   0.   0.   0.   0.   0.28 0.68 0.68 0.62 0.51 0.52 0.69 0.69 0.27 0.   0.   0.   0.   0.   0.   0.   0.   0.\n",
            "  0.   0.   0.   0.   0.   0.   0.   0.   0.   0.   0.56 0.71 0.64 0.47 0.71 0.49 0.55 0.66 0.48 0.   0.   0.   0.   0.   0.   0.   0.   0.\n",
            "  0.   0.   0.   0.   0.   0.   0.   0.   0.   0.   0.61 0.71 0.64 0.67 0.67 0.72 0.64 0.66 0.56 0.   0.   0.   0.   0.   0.   0.   0.   0.\n",
            "  0.   0.   0.   0.   0.   0.   0.   0.   0.   0.   0.62 0.69 0.64 0.68 0.65 0.68 0.67 0.64 0.58 0.   0.   0.   0.   0.   0.   0.   0.   0.\n",
            "  0.   0.   0.   0.   0.   0.   0.   0.   0.   0.   0.63 0.71 0.63 0.66 0.69 0.65 0.62 0.66 0.55 0.   0.   0.   0.   0.   0.   0.   0.   0.\n",
            "  0.   0.   0.   0.   0.   0.   0.   0.   0.   0.   0.56 0.73 0.63 0.67 0.72 0.69 0.63 0.69 0.51 0.   0.   0.   0.   0.   0.   0.   0.   0.\n",
            "  0.   0.   0.   0.   0.   0.   0.   0.   0.   0.   0.56 0.74 0.61 0.67 0.71 0.71 0.63 0.71 0.5  0.   0.   0.   0.   0.   0.   0.   0.   0.\n",
            "  0.   0.   0.   0.   0.   0.   0.   0.   0.   0.   0.5  0.67 0.66 0.69 0.83 0.75 0.64 0.72 0.44 0.   0.   0.   0.   0.   0.   0.   0.   0.\n",
            "  0.   0.   0.   0.   0.   0.   0.   0.   0.   0.   0.31 0.52 0.69 0.69 0.51 0.8  0.63 0.73 0.4  0.   0.   0.   0.   0.   0.   0.   0.   0.\n",
            "  0.   0.   0.   0.   0.   0.   0.   0.   0.   0.   0.36 0.65 0.64 0.75 0.25 0.8  0.62 0.74 0.37 0.   0.   0.   0.   0.   0.   0.   0.   0.\n",
            "  0.   0.   0.   0.   0.   0.   0.   0.   0.   0.   0.38 0.49 0.65 0.75 0.25 0.78 0.65 0.76 0.33 0.   0.   0.   0.   0.   0.   0.   0.   0.\n",
            "  0.   0.   0.   0.   0.   0.   0.   0.   0.   0.   0.35 0.5  0.67 0.78 0.24 0.78 0.68 0.78 0.28 0.   0.   0.   0.   0.   0.   0.   0.   0.\n",
            "  0.   0.   0.   0.   0.   0.   0.   0.   0.   0.   0.36 0.55 0.59 0.81 0.22 0.77 0.67 0.77 0.23 0.   0.   0.   0.   0.   0.   0.   0.   0.\n",
            "  0.   0.   0.   0.   0.   0.   0.   0.   0.   0.   0.35 0.54 0.53 0.82 0.21 0.78 0.68 0.78 0.18 0.   0.   0.   0.   0.   0.   0.   0.   0.\n",
            "  0.   0.   0.   0.   0.   0.   0.   0.   0.   0.   0.28 0.49 0.51 0.84 0.22 0.78 0.69 0.78 0.15 0.   0.   0.   0.   0.   0.   0.   0.   0.\n",
            "  0.   0.   0.   0.   0.   0.   0.   0.   0.   0.   0.22 0.57 0.49 0.82 0.22 0.78 0.69 0.78 0.15 0.   0.   0.   0.   0.   0.   0.   0.   0.\n",
            "  0.   0.   0.   0.   0.   0.   0.   0.   0.   0.   0.16 0.93 0.67 0.76 0.25 0.78 0.68 0.8  0.14 0.   0.   0.   0.   0.   0.   0.   0.   0.\n",
            "  0.   0.   0.   0.   0.   0.   0.   0.   0.   0.   0.09 0.75 0.66 0.75 0.27 0.77 0.67 0.8  0.12 0.   0.   0.   0.   0.   0.   0.   0.   0.\n",
            "  0.   0.   0.   0.   0.   0.   0.   0.   0.   0.   0.06 0.74 0.67 0.77 0.27 0.78 0.68 0.79 0.08 0.   0.   0.   0.   0.   0.   0.   0.   0.\n",
            "  0.   0.   0.   0.   0.   0.   0.   0.   0.   0.   0.04 0.73 0.67 0.77 0.28 0.78 0.68 0.8  0.06 0.   0.   0.   0.   0.   0.   0.   0.   0.\n",
            "  0.   0.   0.   0.   0.   0.   0.   0.   0.   0.   0.   0.72 0.69 0.78 0.29 0.76 0.68 0.8  0.05 0.   0.   0.   0.   0.   0.   0.   0.   0.\n",
            "  0.   0.   0.   0.   0.   0.   0.   0.   0.   0.   0.   0.73 0.69 0.78 0.31 0.75 0.69 0.67 0.03 0.   0.   0.   0.   0.   0.   0.   0.   0.\n",
            "  0.   0.   0.   0.   0.   0.   0.   0.   0.   0.   0.   0.71 0.69 0.78 0.31 0.74 0.69 0.65 0.02 0.   0.   0.   0.   0.   0.   0.   0.   0.\n",
            "  0.   0.   0.   0.   0.   0.   0.   0.   0.   0.   0.   0.7  0.71 0.71 0.42 0.72 0.69 0.76 0.   0.   0.   0.   0.   0.   0.   0.   0.   0.\n",
            "  0.   0.   0.   0.   0.   0.   0.   0.   0.   0.   0.   0.68 0.78 0.81 0.33 0.77 0.77 0.52 0.   0.   0.   0.   0.   0.   0.   0.   0.   0.\n",
            "  0.   0.   0.   0.   0.   0.   0.   0.   0.   0.   0.   0.27 0.81 0.71 0.   0.69 0.76 0.13 0.   0.   0.   0.   0.   0.   0.   0.   0.   0.  ]]\n"
          ]
        }
      ]
    },
    {
      "cell_type": "markdown",
      "source": [
        "Gracias al término one hot enconding, cambiamos el formato de las etiquetas. Lo que encontramos ahora es un vector de 10 bits, con todos los valores en 0, excepto un bit cuyo valor sea 1 cuya posición nos indicará a qué clase de ropa pertenece la imagen. \n"
      ],
      "metadata": {
        "id": "sDjMPKiW2oad"
      },
      "id": "sDjMPKiW2oad"
    },
    {
      "cell_type": "code",
      "source": [
        "def to_one_hot(labels, dimension=10):\n",
        "    results = np.zeros((len(labels), dimension))\n",
        "    for i, label in enumerate(labels):\n",
        "        results[i, label] = 1.\n",
        "    return results\n",
        "\n",
        "# Datos de entrenamiento vectorizados\n",
        "one_hot_train_labels = to_one_hot(train_labels)\n",
        "# Datos de test vectorizados\n",
        "one_hot_test_labels = to_one_hot(test_labels)\n",
        "print(one_hot_test_labels)\n"
      ],
      "metadata": {
        "id": "LlxCEGKt4tUV",
        "outputId": "3881d714-f6ba-40f0-9312-9d4c9002554f",
        "colab": {
          "base_uri": "https://localhost:8080/"
        }
      },
      "id": "LlxCEGKt4tUV",
      "execution_count": null,
      "outputs": [
        {
          "output_type": "stream",
          "name": "stdout",
          "text": [
            "[[0. 0. 0. ... 0. 0. 1.]\n",
            " [0. 0. 1. ... 0. 0. 0.]\n",
            " [0. 1. 0. ... 0. 0. 0.]\n",
            " ...\n",
            " [0. 0. 0. ... 0. 1. 0.]\n",
            " [0. 1. 0. ... 0. 0. 0.]\n",
            " [0. 0. 0. ... 0. 0. 0.]]\n"
          ]
        }
      ]
    },
    {
      "cell_type": "code",
      "source": [
        "from keras.utils.np_utils import to_categorical\n",
        "\n",
        "one_hot_train_labels = to_categorical(train_labels)\n",
        "one_hot_test_labels = to_categorical(test_labels)\n",
        "print(one_hot_test_labels[1])"
      ],
      "metadata": {
        "id": "5aR92VJ64zyz",
        "outputId": "77dab2cb-4cb6-4c2e-9209-e6b63ae65635",
        "colab": {
          "base_uri": "https://localhost:8080/"
        }
      },
      "id": "5aR92VJ64zyz",
      "execution_count": null,
      "outputs": [
        {
          "output_type": "stream",
          "name": "stdout",
          "text": [
            "[0. 0. 1. 0. 0. 0. 0. 0. 0. 0.]\n"
          ]
        }
      ]
    },
    {
      "cell_type": "markdown",
      "source": [
        "# Casos"
      ],
      "metadata": {
        "id": "mdQESI3QhWAH"
      },
      "id": "mdQESI3QhWAH"
    },
    {
      "cell_type": "markdown",
      "source": [
        "## Caso 1"
      ],
      "metadata": {
        "id": "azz0J1EN1w_i"
      },
      "id": "azz0J1EN1w_i"
    },
    {
      "cell_type": "markdown",
      "source": [
        "Procedemos "
      ],
      "metadata": {
        "id": "qXRgQ0ISneCE"
      },
      "id": "qXRgQ0ISneCE"
    },
    {
      "cell_type": "code",
      "source": [
        "from keras import models\n",
        "from keras import layers\n",
        "network = models.Sequential()\n",
        "network.add(layers.Dense(10, activation='relu', input_shape=(28*28,)))\n",
        "network.add(layers.Dense(10, activation='softmax'))\n",
        "network.summary()"
      ],
      "metadata": {
        "id": "nYPCCxVF10iR",
        "outputId": "7f8fc5aa-fd74-4b4d-f7f0-da3a928ee123",
        "colab": {
          "base_uri": "https://localhost:8080/"
        }
      },
      "id": "nYPCCxVF10iR",
      "execution_count": null,
      "outputs": [
        {
          "output_type": "stream",
          "name": "stdout",
          "text": [
            "Model: \"sequential_14\"\n",
            "_________________________________________________________________\n",
            " Layer (type)                Output Shape              Param #   \n",
            "=================================================================\n",
            " dense_28 (Dense)            (None, 10)                7850      \n",
            "                                                                 \n",
            " dense_29 (Dense)            (None, 10)                110       \n",
            "                                                                 \n",
            "=================================================================\n",
            "Total params: 7,960\n",
            "Trainable params: 7,960\n",
            "Non-trainable params: 0\n",
            "_________________________________________________________________\n"
          ]
        }
      ]
    },
    {
      "cell_type": "markdown",
      "source": [
        "Procedemos a observar un diagrama que represente las capas con las que se está trabajando. En este caso, en la primera capa le entra un vector de tamaño 784 "
      ],
      "metadata": {
        "id": "3SCf_36jQmzS"
      },
      "id": "3SCf_36jQmzS"
    },
    {
      "cell_type": "code",
      "source": [
        "import tensorflow as tf\n",
        "from tensorflow import keras\n",
        "from tensorflow.keras import layers\n",
        "keras.utils.plot_model(network, \"my_first_model.png\", show_shapes=True)"
      ],
      "metadata": {
        "id": "7q0sDOHa2Y4W",
        "outputId": "8b18f4a6-7328-43c2-91d3-67a5f77c0935",
        "colab": {
          "base_uri": "https://localhost:8080/",
          "height": 312
        }
      },
      "id": "7q0sDOHa2Y4W",
      "execution_count": null,
      "outputs": [
        {
          "output_type": "execute_result",
          "data": {
            "image/png": "[encoded data removed]",
            "text/plain": [
              "<IPython.core.display.Image object>"
            ]
          },
          "metadata": {},
          "execution_count": 87
        }
      ]
    },
    {
      "cell_type": "code",
      "source": [
        "network.compile(optimizer='sgd',\n",
        "                loss='categorical_crossentropy',\n",
        "                metrics=['accuracy'])"
      ],
      "metadata": {
        "id": "Fezp-Ihw2jeE"
      },
      "id": "Fezp-Ihw2jeE",
      "execution_count": null,
      "outputs": []
    },
    {
      "cell_type": "code",
      "source": [
        "# 7.- ENTRENAMOS LA RED CON EL JUEGO DE DATOS DE ENTRENAMIENTO\n",
        "network.fit(train_images, one_hot_train_labels, epochs=5, batch_size=128)"
      ],
      "metadata": {
        "id": "XQ1kFByM3bIs",
        "outputId": "35a24319-3227-40b4-e5a5-f997faa0f72d",
        "colab": {
          "base_uri": "https://localhost:8080/"
        }
      },
      "id": "XQ1kFByM3bIs",
      "execution_count": null,
      "outputs": [
        {
          "output_type": "stream",
          "name": "stdout",
          "text": [
            "Epoch 1/5\n",
            "469/469 [==============================] - 2s 3ms/step - loss: 0.5970 - accuracy: 0.8007\n",
            "Epoch 2/5\n",
            "469/469 [==============================] - 2s 4ms/step - loss: 0.5715 - accuracy: 0.8073\n",
            "Epoch 3/5\n",
            "469/469 [==============================] - 2s 4ms/step - loss: 0.5526 - accuracy: 0.8134\n",
            "Epoch 4/5\n",
            "469/469 [==============================] - 1s 3ms/step - loss: 0.5381 - accuracy: 0.8176\n",
            "Epoch 5/5\n",
            "469/469 [==============================] - 3s 6ms/step - loss: 0.5264 - accuracy: 0.8203\n"
          ]
        },
        {
          "output_type": "execute_result",
          "data": {
            "text/plain": [
              "<keras.callbacks.History at 0x7f0b232fc690>"
            ]
          },
          "metadata": {},
          "execution_count": 89
        }
      ]
    },
    {
      "cell_type": "code",
      "source": [
        "test_loss, test_acc = network.evaluate(test_images, one_hot_test_labels)\n",
        "print('test_loss:', test_loss)\n",
        "print('test_acc:', test_acc)"
      ],
      "metadata": {
        "id": "_timnPE16ZeN",
        "colab": {
          "base_uri": "https://localhost:8080/"
        },
        "outputId": "5d73a469-39a0-4ebc-d78a-21f0f2ca78e6"
      },
      "id": "_timnPE16ZeN",
      "execution_count": null,
      "outputs": [
        {
          "output_type": "stream",
          "name": "stdout",
          "text": [
            "313/313 [==============================] - 1s 2ms/step - loss: 0.6316 - accuracy: 0.7842\n",
            "test_loss: 0.6316398978233337\n",
            "test_acc: 0.7842000126838684\n"
          ]
        }
      ]
    },
    {
      "cell_type": "code",
      "source": [
        "def plot_image(i, predictions_array, true_label, img):\n",
        "  predictions_array, true_label, img = predictions_array, true_label[i], img[i]\n",
        "  plt.grid(False)\n",
        "  plt.xticks([])\n",
        "  plt.yticks([])\n",
        "\n",
        "  plt.imshow(img, cmap=plt.cm.binary)\n",
        "\n",
        "  predicted_label = np.argmax (predictions_array)\n",
        "  if predicted_label== true_label:\n",
        "    color = 'blue' \n",
        "  else:\n",
        "    color = 'red'\n",
        "  plt.xlabel(\"{} {:2.0f}% ({})\".format(predicted_label,\n",
        "                                100*np.max(predictions_array),\n",
        "                                true_label),\n",
        "                                color=color)\n",
        "def plot_value_array(i, predictions_array, true_label):\n",
        "  predictions_array, true_label = predictions_array, true_label[i]\n",
        "  plt.grid(False)\n",
        "  plt.xticks(range(10))\n",
        "  plt.yticks([])\n",
        "  thisplot = plt.bar(range(10), predictions_array, color=\"#777777\")\n",
        "  plt.ylim([0, 1])\n",
        "  predicted_label = np.argmax(predictions_array)\n",
        "  thisplot[predicted_label].set_color('red')\n",
        "  thisplot[true_label].set_color('blue')\n",
        " "
      ],
      "metadata": {
        "id": "RGIVmAO1WEHM"
      },
      "id": "RGIVmAO1WEHM",
      "execution_count": null,
      "outputs": []
    },
    {
      "cell_type": "markdown",
      "source": [
        "Ejemplo de uso para ver la predicción de la 6ª figura de las imágenes de test."
      ],
      "metadata": {
        "id": "eak8oC--Xccz"
      },
      "id": "eak8oC--Xccz"
    },
    {
      "cell_type": "markdown",
      "source": [
        "## Caso 2"
      ],
      "metadata": {
        "id": "4eklmN5C18qe"
      },
      "id": "4eklmN5C18qe"
    },
    {
      "cell_type": "code",
      "source": [
        "from keras import models\n",
        "from keras import layers\n",
        "network2 = models.Sequential()\n",
        "network2.add(layers.Dense(10, activation='relu', input_shape=(28*28,)))\n",
        "network2.add(layers.Dense(10, activation='softmax'))\n",
        "network2.summary()"
      ],
      "metadata": {
        "id": "EPzdz9a21-Wm",
        "outputId": "2e7ff45b-82a6-494e-c3c1-3b2f472f49a1",
        "colab": {
          "base_uri": "https://localhost:8080/"
        }
      },
      "id": "EPzdz9a21-Wm",
      "execution_count": null,
      "outputs": [
        {
          "output_type": "stream",
          "name": "stdout",
          "text": [
            "Model: \"sequential_1\"\n",
            "_________________________________________________________________\n",
            " Layer (type)                Output Shape              Param #   \n",
            "=================================================================\n",
            " dense_2 (Dense)             (None, 10)                7850      \n",
            "                                                                 \n",
            " dense_3 (Dense)             (None, 10)                110       \n",
            "                                                                 \n",
            "=================================================================\n",
            "Total params: 7,960\n",
            "Trainable params: 7,960\n",
            "Non-trainable params: 0\n",
            "_________________________________________________________________\n"
          ]
        }
      ]
    },
    {
      "cell_type": "code",
      "source": [
        "#Representar\n",
        "import tensorflow as tf\n",
        "from tensorflow import keras\n",
        "from tensorflow.keras import layers\n",
        "keras.utils.plot_model(network2, \"my_first_model.png\", show_shapes=True)"
      ],
      "metadata": {
        "id": "cR6i6gvDCPXy",
        "outputId": "746cfc54-011e-447a-9edd-02f3cb2ae4f9",
        "colab": {
          "base_uri": "https://localhost:8080/",
          "height": 312
        }
      },
      "id": "cR6i6gvDCPXy",
      "execution_count": null,
      "outputs": [
        {
          "output_type": "execute_result",
          "data": {
            "image/png": "[encoded data removed]",
            "text/plain": [
              "<IPython.core.display.Image object>"
            ]
          },
          "metadata": {},
          "execution_count": 16
        }
      ]
    },
    {
      "cell_type": "code",
      "source": [
        "network2.compile(optimizer='rmsprop',\n",
        "                loss='categorical_crossentropy',\n",
        "                metrics=['accuracy'])"
      ],
      "metadata": {
        "id": "0zuKqRWcCRW-"
      },
      "id": "0zuKqRWcCRW-",
      "execution_count": null,
      "outputs": []
    },
    {
      "cell_type": "code",
      "source": [
        "network2.fit(train_images, one_hot_train_labels, epochs=5, batch_size=128)"
      ],
      "metadata": {
        "id": "hZd6Rt_6CXEE",
        "outputId": "4ce990cc-0ece-4d0c-a869-7dda9d0bed3a",
        "colab": {
          "base_uri": "https://localhost:8080/"
        }
      },
      "id": "hZd6Rt_6CXEE",
      "execution_count": null,
      "outputs": [
        {
          "output_type": "stream",
          "name": "stdout",
          "text": [
            "Epoch 1/5\n",
            "469/469 [==============================] - 2s 3ms/step - loss: 2.1512 - accuracy: 0.4090\n",
            "Epoch 2/5\n",
            "469/469 [==============================] - 1s 3ms/step - loss: 1.7021 - accuracy: 0.5077\n",
            "Epoch 3/5\n",
            "469/469 [==============================] - 1s 3ms/step - loss: 1.3460 - accuracy: 0.5978\n",
            "Epoch 4/5\n",
            "469/469 [==============================] - 1s 3ms/step - loss: 1.1275 - accuracy: 0.6421\n",
            "Epoch 5/5\n",
            "469/469 [==============================] - 1s 3ms/step - loss: 0.9873 - accuracy: 0.6805\n"
          ]
        },
        {
          "output_type": "execute_result",
          "data": {
            "text/plain": [
              "<keras.callbacks.History at 0x7f0b29e50a90>"
            ]
          },
          "metadata": {},
          "execution_count": 18
        }
      ]
    },
    {
      "cell_type": "code",
      "source": [
        "test_loss, test_acc = network2.evaluate(test_images, one_hot_test_labels)\n",
        "print('test_loss:', test_loss)\n",
        "print('test_acc:', test_acc)"
      ],
      "metadata": {
        "id": "OHZcLZs16d2f",
        "colab": {
          "base_uri": "https://localhost:8080/"
        },
        "outputId": "10ba0c3b-578e-4748-9989-b284e111f98f"
      },
      "id": "OHZcLZs16d2f",
      "execution_count": null,
      "outputs": [
        {
          "output_type": "stream",
          "name": "stdout",
          "text": [
            "313/313 [==============================] - 1s 2ms/step - loss: 0.9397 - accuracy: 0.6892\n",
            "test_loss: 0.9396671056747437\n",
            "test_acc: 0.6891999840736389\n"
          ]
        }
      ]
    },
    {
      "cell_type": "markdown",
      "source": [
        "## Caso 2.2"
      ],
      "metadata": {
        "id": "IsoqzJ43_xOM"
      },
      "id": "IsoqzJ43_xOM"
    },
    {
      "cell_type": "code",
      "source": [
        "from keras import models\n",
        "from keras import layers\n",
        "network22 = models.Sequential()\n",
        "network22.add(layers.Dense(10, activation='relu', input_shape=(28*28,)))\n",
        "network22.add(layers.Dense(10, activation='softmax'))\n",
        "network22.summary()"
      ],
      "metadata": {
        "colab": {
          "base_uri": "https://localhost:8080/"
        },
        "id": "Dygl-w5P_2X1",
        "outputId": "be06ce22-ce3e-49d8-dc22-f157663b0253"
      },
      "id": "Dygl-w5P_2X1",
      "execution_count": null,
      "outputs": [
        {
          "output_type": "stream",
          "name": "stdout",
          "text": [
            "Model: \"sequential_3\"\n",
            "_________________________________________________________________\n",
            " Layer (type)                Output Shape              Param #   \n",
            "=================================================================\n",
            " dense_6 (Dense)             (None, 10)                7850      \n",
            "                                                                 \n",
            " dense_7 (Dense)             (None, 10)                110       \n",
            "                                                                 \n",
            "=================================================================\n",
            "Total params: 7,960\n",
            "Trainable params: 7,960\n",
            "Non-trainable params: 0\n",
            "_________________________________________________________________\n"
          ]
        }
      ]
    },
    {
      "cell_type": "code",
      "source": [
        "keras.utils.plot_model(network22, \"my_first_model.png\", show_shapes=True)"
      ],
      "metadata": {
        "colab": {
          "base_uri": "https://localhost:8080/",
          "height": 312
        },
        "id": "iK4NZh-vAAwB",
        "outputId": "db1c3b53-9942-4219-aef4-481ea1fac1d8"
      },
      "id": "iK4NZh-vAAwB",
      "execution_count": null,
      "outputs": [
        {
          "output_type": "execute_result",
          "data": {
            "image/png": "[encoded data removed]",
            "text/plain": [
              "<IPython.core.display.Image object>"
            ]
          },
          "metadata": {},
          "execution_count": 26
        }
      ]
    },
    {
      "cell_type": "code",
      "source": [
        "network22.compile(optimizer='rmsprop',\n",
        "                loss='categorical_crossentropy',\n",
        "                metrics=['accuracy'])"
      ],
      "metadata": {
        "id": "8DlkXq0PAJit"
      },
      "id": "8DlkXq0PAJit",
      "execution_count": null,
      "outputs": []
    },
    {
      "cell_type": "code",
      "source": [
        "network22.fit(train_images, one_hot_train_labels, epochs=25, batch_size=128)"
      ],
      "metadata": {
        "colab": {
          "base_uri": "https://localhost:8080/"
        },
        "id": "0zgJCcdfAOc_",
        "outputId": "3218fea1-e3c3-4d4c-dcf9-9c338cfc5776"
      },
      "id": "0zgJCcdfAOc_",
      "execution_count": null,
      "outputs": [
        {
          "output_type": "stream",
          "name": "stdout",
          "text": [
            "Epoch 1/25\n",
            "469/469 [==============================] - 2s 4ms/step - loss: 2.1756 - accuracy: 0.2376\n",
            "Epoch 2/25\n",
            "469/469 [==============================] - 2s 4ms/step - loss: 1.8217 - accuracy: 0.4535\n",
            "Epoch 3/25\n",
            "469/469 [==============================] - 1s 3ms/step - loss: 1.4886 - accuracy: 0.5330\n",
            "Epoch 4/25\n",
            "469/469 [==============================] - 1s 3ms/step - loss: 1.2440 - accuracy: 0.5811\n",
            "Epoch 5/25\n",
            "469/469 [==============================] - 1s 3ms/step - loss: 1.0895 - accuracy: 0.6342\n",
            "Epoch 6/25\n",
            "469/469 [==============================] - 1s 3ms/step - loss: 0.9827 - accuracy: 0.6714\n",
            "Epoch 7/25\n",
            "469/469 [==============================] - 1s 3ms/step - loss: 0.9017 - accuracy: 0.6964\n",
            "Epoch 8/25\n",
            "469/469 [==============================] - 2s 4ms/step - loss: 0.8378 - accuracy: 0.7156\n",
            "Epoch 9/25\n",
            "469/469 [==============================] - 3s 5ms/step - loss: 0.7870 - accuracy: 0.7317\n",
            "Epoch 10/25\n",
            "469/469 [==============================] - 1s 3ms/step - loss: 0.7473 - accuracy: 0.7419\n",
            "Epoch 11/25\n",
            "469/469 [==============================] - 1s 3ms/step - loss: 0.7160 - accuracy: 0.7488\n",
            "Epoch 12/25\n",
            "469/469 [==============================] - 1s 3ms/step - loss: 0.6914 - accuracy: 0.7550\n",
            "Epoch 13/25\n",
            "469/469 [==============================] - 1s 3ms/step - loss: 0.6714 - accuracy: 0.7599\n",
            "Epoch 14/25\n",
            "469/469 [==============================] - 1s 3ms/step - loss: 0.6550 - accuracy: 0.7649\n",
            "Epoch 15/25\n",
            "469/469 [==============================] - 1s 3ms/step - loss: 0.6410 - accuracy: 0.7683\n",
            "Epoch 16/25\n",
            "469/469 [==============================] - 1s 3ms/step - loss: 0.6292 - accuracy: 0.7723\n",
            "Epoch 17/25\n",
            "469/469 [==============================] - 1s 3ms/step - loss: 0.6185 - accuracy: 0.7757\n",
            "Epoch 18/25\n",
            "469/469 [==============================] - 1s 3ms/step - loss: 0.6090 - accuracy: 0.7792\n",
            "Epoch 19/25\n",
            "469/469 [==============================] - 1s 3ms/step - loss: 0.6005 - accuracy: 0.7821\n",
            "Epoch 20/25\n",
            "469/469 [==============================] - 1s 3ms/step - loss: 0.5927 - accuracy: 0.7850\n",
            "Epoch 21/25\n",
            "469/469 [==============================] - 1s 3ms/step - loss: 0.5854 - accuracy: 0.7878\n",
            "Epoch 22/25\n",
            "469/469 [==============================] - 1s 3ms/step - loss: 0.5789 - accuracy: 0.7908\n",
            "Epoch 23/25\n",
            "469/469 [==============================] - 1s 3ms/step - loss: 0.5726 - accuracy: 0.7927\n",
            "Epoch 24/25\n",
            "469/469 [==============================] - 1s 3ms/step - loss: 0.5669 - accuracy: 0.7950\n",
            "Epoch 25/25\n",
            "469/469 [==============================] - 1s 3ms/step - loss: 0.5613 - accuracy: 0.7971\n"
          ]
        },
        {
          "output_type": "execute_result",
          "data": {
            "text/plain": [
              "<keras.callbacks.History at 0x7f0b2d28a190>"
            ]
          },
          "metadata": {},
          "execution_count": 28
        }
      ]
    },
    {
      "cell_type": "code",
      "source": [
        "test_loss, test_acc = network22.evaluate(test_images, one_hot_test_labels)\n",
        "print('test_loss:', test_loss)\n",
        "print('test_acc:', test_acc)"
      ],
      "metadata": {
        "colab": {
          "base_uri": "https://localhost:8080/"
        },
        "id": "Vkyy82PeAj1-",
        "outputId": "60f5846c-01dc-450b-b02c-fb7da4bb6021"
      },
      "id": "Vkyy82PeAj1-",
      "execution_count": null,
      "outputs": [
        {
          "output_type": "stream",
          "name": "stdout",
          "text": [
            "313/313 [==============================] - 1s 2ms/step - loss: 0.5794 - accuracy: 0.7885\n",
            "test_loss: 0.5794428586959839\n",
            "test_acc: 0.7885000109672546\n"
          ]
        }
      ]
    },
    {
      "cell_type": "markdown",
      "source": [
        "## Caso 3"
      ],
      "metadata": {
        "id": "si975wrD1_FG"
      },
      "id": "si975wrD1_FG"
    },
    {
      "cell_type": "code",
      "source": [
        "from keras import models\n",
        "from keras import layers\n",
        "network3 = models.Sequential()\n",
        "network3.add(layers.Dense(10, activation='sigmoid', input_shape=(28*28,)))\n",
        "network3.add(layers.Dense(10, activation='softmax'))\n",
        "network3.summary()"
      ],
      "metadata": {
        "id": "pc_7Or_m2ATs",
        "outputId": "6835ce97-6122-48f5-9df6-8ae7c62d0221",
        "colab": {
          "base_uri": "https://localhost:8080/"
        }
      },
      "id": "pc_7Or_m2ATs",
      "execution_count": null,
      "outputs": [
        {
          "output_type": "stream",
          "name": "stdout",
          "text": [
            "Model: \"sequential_4\"\n",
            "_________________________________________________________________\n",
            " Layer (type)                Output Shape              Param #   \n",
            "=================================================================\n",
            " dense_8 (Dense)             (None, 10)                7850      \n",
            "                                                                 \n",
            " dense_9 (Dense)             (None, 10)                110       \n",
            "                                                                 \n",
            "=================================================================\n",
            "Total params: 7,960\n",
            "Trainable params: 7,960\n",
            "Non-trainable params: 0\n",
            "_________________________________________________________________\n"
          ]
        }
      ]
    },
    {
      "cell_type": "code",
      "source": [
        "#Representar\n",
        "import tensorflow as tf\n",
        "from tensorflow import keras\n",
        "from tensorflow.keras import layers\n",
        "keras.utils.plot_model(network3, \"my_first_model.png\", show_shapes=True)"
      ],
      "metadata": {
        "id": "fbQhbV59EDkG",
        "outputId": "5f1d59bb-d174-44eb-dc32-8e6e454512f9",
        "colab": {
          "base_uri": "https://localhost:8080/",
          "height": 312
        }
      },
      "id": "fbQhbV59EDkG",
      "execution_count": null,
      "outputs": [
        {
          "output_type": "execute_result",
          "data": {
            "image/png": "[encoded data removed]",
            "text/plain": [
              "<IPython.core.display.Image object>"
            ]
          },
          "metadata": {},
          "execution_count": 31
        }
      ]
    },
    {
      "cell_type": "code",
      "source": [
        "network3.compile(optimizer='sgd',\n",
        "                loss='categorical_crossentropy',\n",
        "                metrics=['accuracy'])"
      ],
      "metadata": {
        "id": "tD2Wc6ZVENl-"
      },
      "id": "tD2Wc6ZVENl-",
      "execution_count": null,
      "outputs": []
    },
    {
      "cell_type": "code",
      "source": [
        "network3.fit(train_images, one_hot_train_labels, epochs=5, batch_size=128)"
      ],
      "metadata": {
        "id": "3rm0Rj5XEXvA",
        "outputId": "f75629eb-9be6-4482-ab39-bef533dbb1bf",
        "colab": {
          "base_uri": "https://localhost:8080/"
        }
      },
      "id": "3rm0Rj5XEXvA",
      "execution_count": null,
      "outputs": [
        {
          "output_type": "stream",
          "name": "stdout",
          "text": [
            "Epoch 1/5\n",
            "469/469 [==============================] - 2s 3ms/step - loss: 2.3335 - accuracy: 0.1000\n",
            "Epoch 2/5\n",
            "469/469 [==============================] - 1s 2ms/step - loss: 2.3039 - accuracy: 0.1000\n",
            "Epoch 3/5\n",
            "469/469 [==============================] - 1s 2ms/step - loss: 2.3028 - accuracy: 0.0987\n",
            "Epoch 4/5\n",
            "469/469 [==============================] - 1s 2ms/step - loss: 2.3027 - accuracy: 0.0955\n",
            "Epoch 5/5\n",
            "469/469 [==============================] - 1s 2ms/step - loss: 2.3027 - accuracy: 0.0981\n"
          ]
        },
        {
          "output_type": "execute_result",
          "data": {
            "text/plain": [
              "<keras.callbacks.History at 0x7f0b2d4338d0>"
            ]
          },
          "metadata": {},
          "execution_count": 33
        }
      ]
    },
    {
      "cell_type": "code",
      "source": [
        "test_loss, test_acc = network3.evaluate(test_images, one_hot_test_labels)\n",
        "print('test_loss:', test_loss)\n",
        "print('test_acc:', test_acc)"
      ],
      "metadata": {
        "id": "g_E-ywwH6f64",
        "colab": {
          "base_uri": "https://localhost:8080/"
        },
        "outputId": "046585c6-d47d-42ce-90e9-1a4a0b33ec0c"
      },
      "id": "g_E-ywwH6f64",
      "execution_count": null,
      "outputs": [
        {
          "output_type": "stream",
          "name": "stdout",
          "text": [
            "313/313 [==============================] - 1s 2ms/step - loss: 2.3026 - accuracy: 0.1000\n",
            "test_loss: 2.302623748779297\n",
            "test_acc: 0.10000000149011612\n"
          ]
        }
      ]
    },
    {
      "cell_type": "markdown",
      "source": [
        "##Caso 3.2 "
      ],
      "metadata": {
        "id": "FYnS0EzrDSU8"
      },
      "id": "FYnS0EzrDSU8"
    },
    {
      "cell_type": "markdown",
      "source": [
        "**Keras flatten** aplana la entrada sin afectar el tamaño del lote. Se utiliza cuando se trata de cualquiera de los tensores multidimensionales que consisten en conjuntos de datos de imágenes y conjuntos de datos de múltiples capas que no permiten perder ninguna información de los mismos.\n",
        "\n",
        "El método layer.flatten() se utiliza para convertir una matriz multidimensional en una matriz plana unidimensional o, por ejemplo, una matriz unidimensional.\n",
        "\n",
        "Ninguna de las dimensiones del lote se incluye como parte de keras.layer.flatten, donde la noción simple es la alimentación de la entrada como multidimensional y la salida esperada como una matriz unidimensional."
      ],
      "metadata": {
        "id": "wxOIE5cjXI3a"
      },
      "id": "wxOIE5cjXI3a"
    },
    {
      "cell_type": "markdown",
      "source": [
        "Observamos como implementarla en el caso 3: "
      ],
      "metadata": {
        "id": "P6hNB0Z1Mr97"
      },
      "id": "P6hNB0Z1Mr97"
    },
    {
      "cell_type": "code",
      "source": [
        "network32= keras.Sequential([\n",
        "    keras.layers.Flatten(input_shape=(28,28)),\n",
        "    keras.layers.Dense(10, activation='relu'),\n",
        "    keras.layers.Dense(10, activation='softmax')\n",
        "]) \n",
        "\n",
        "network32.summary()"
      ],
      "metadata": {
        "colab": {
          "base_uri": "https://localhost:8080/"
        },
        "id": "oHcVIv-PMwsM",
        "outputId": "6389c20e-5916-4902-c018-d41b5ecef1c0"
      },
      "id": "oHcVIv-PMwsM",
      "execution_count": null,
      "outputs": [
        {
          "output_type": "stream",
          "name": "stdout",
          "text": [
            "Model: \"sequential_13\"\n",
            "_________________________________________________________________\n",
            " Layer (type)                Output Shape              Param #   \n",
            "=================================================================\n",
            " flatten_4 (Flatten)         (None, 784)               0         \n",
            "                                                                 \n",
            " dense_26 (Dense)            (None, 10)                7850      \n",
            "                                                                 \n",
            " dense_27 (Dense)            (None, 10)                110       \n",
            "                                                                 \n",
            "=================================================================\n",
            "Total params: 7,960\n",
            "Trainable params: 7,960\n",
            "Non-trainable params: 0\n",
            "_________________________________________________________________\n"
          ]
        }
      ]
    },
    {
      "cell_type": "code",
      "source": [
        "keras.utils.plot_model(network32, \"my_first_model.png\", show_shapes=True)"
      ],
      "metadata": {
        "colab": {
          "base_uri": "https://localhost:8080/",
          "height": 422
        },
        "id": "ltpRBSVnDXnJ",
        "outputId": "73a5656b-1307-47ef-94d3-6a1a62cc3622"
      },
      "id": "ltpRBSVnDXnJ",
      "execution_count": null,
      "outputs": [
        {
          "output_type": "execute_result",
          "data": {
            "image/png": "[encoded data removed]",
            "text/plain": [
              "<IPython.core.display.Image object>"
            ]
          },
          "metadata": {},
          "execution_count": 63
        }
      ]
    },
    {
      "cell_type": "code",
      "source": [
        "network32.compile(optimizer='adam',\n",
        "                loss='sparse_categorical_crossentropy',\n",
        "                metrics=['accuracy'])"
      ],
      "metadata": {
        "id": "IGAHsAogDXxf"
      },
      "id": "IGAHsAogDXxf",
      "execution_count": null,
      "outputs": []
    },
    {
      "cell_type": "code",
      "source": [
        "from keras.datasets import fashion_mnist\n",
        "\n",
        "(train_images, train_labels), (test_images, test_labels) = fashion_mnist.load_data()"
      ],
      "metadata": {
        "id": "UBVJCYrYD62d"
      },
      "id": "UBVJCYrYD62d",
      "execution_count": null,
      "outputs": []
    },
    {
      "cell_type": "code",
      "source": [
        "network32.fit(train_images, train_labels, epochs=5, batch_size=128)"
      ],
      "metadata": {
        "colab": {
          "base_uri": "https://localhost:8080/"
        },
        "id": "mcW-XylSDX6k",
        "outputId": "aa6992a0-0113-412c-9a79-59da83621a39"
      },
      "id": "mcW-XylSDX6k",
      "execution_count": null,
      "outputs": [
        {
          "output_type": "stream",
          "name": "stdout",
          "text": [
            "Epoch 1/5\n",
            "469/469 [==============================] - 2s 3ms/step - loss: 3.7686 - accuracy: 0.1067\n",
            "Epoch 2/5\n",
            "469/469 [==============================] - 1s 3ms/step - loss: 2.2396 - accuracy: 0.1303\n",
            "Epoch 3/5\n",
            "469/469 [==============================] - 1s 3ms/step - loss: 2.1818 - accuracy: 0.1522\n",
            "Epoch 4/5\n",
            "469/469 [==============================] - 2s 4ms/step - loss: 2.0565 - accuracy: 0.1883\n",
            "Epoch 5/5\n",
            "469/469 [==============================] - 2s 5ms/step - loss: 1.8292 - accuracy: 0.2238\n"
          ]
        },
        {
          "output_type": "execute_result",
          "data": {
            "text/plain": [
              "<keras.callbacks.History at 0x7f0b235f1910>"
            ]
          },
          "metadata": {},
          "execution_count": 66
        }
      ]
    },
    {
      "cell_type": "code",
      "source": [
        "test_loss, test_acc = network32.evaluate(test_images, test_labels)\n",
        "print('test_loss:', test_loss)\n",
        "print('test_acc:', test_acc)"
      ],
      "metadata": {
        "colab": {
          "base_uri": "https://localhost:8080/"
        },
        "id": "FXqd0ZIQDYFt",
        "outputId": "071de9d7-dd6e-424d-9944-9f650b6f455c"
      },
      "id": "FXqd0ZIQDYFt",
      "execution_count": null,
      "outputs": [
        {
          "output_type": "stream",
          "name": "stdout",
          "text": [
            "313/313 [==============================] - 1s 3ms/step - loss: 1.8039 - accuracy: 0.2295\n",
            "test_loss: 1.8039029836654663\n",
            "test_acc: 0.22949999570846558\n"
          ]
        }
      ]
    },
    {
      "cell_type": "markdown",
      "source": [
        "## Caso 4"
      ],
      "metadata": {
        "id": "QUpYmKrd2BEN"
      },
      "id": "QUpYmKrd2BEN"
    },
    {
      "cell_type": "code",
      "source": [
        "from keras.datasets import fashion_mnist\n",
        "\n",
        "(train_images, train_labels), (test_images, test_labels) = fashion_mnist.load_data()\n",
        "train_images = train_images.reshape((60000, 28 * 28))\n",
        "train_images = train_images.astype('float32') / 255\n",
        "test_images = test_images.reshape((10000, 28 * 28))\n",
        "test_images = test_images.astype('float32') / 255"
      ],
      "metadata": {
        "id": "SWSkaCm4HcGR"
      },
      "id": "SWSkaCm4HcGR",
      "execution_count": null,
      "outputs": []
    },
    {
      "cell_type": "markdown",
      "source": [
        "DSDSAFASDFAS"
      ],
      "metadata": {
        "id": "kbycvw6Ma5Ha"
      },
      "id": "kbycvw6Ma5Ha"
    },
    {
      "cell_type": "code",
      "source": [
        "# Datos de entrenamiento vectorizados\n",
        "one_hot_train_labels = to_one_hot(train_labels)\n",
        "# Datos de test vectorizados\n",
        "one_hot_test_labels = to_one_hot(test_labels)"
      ],
      "metadata": {
        "id": "fHL_830VHju1"
      },
      "id": "fHL_830VHju1",
      "execution_count": null,
      "outputs": []
    },
    {
      "cell_type": "code",
      "source": [
        "from keras import models\n",
        "from keras import layers\n",
        "network4 = models.Sequential()\n",
        "network4.add(layers.Dense(10, activation='sigmoid', input_shape=(28*28,)))\n",
        "network4.add(layers.Dense(10, activation='softmax'))\n",
        "network4.summary()"
      ],
      "metadata": {
        "id": "UOSR9miO2CpC",
        "outputId": "14b3ec24-d5ab-46f6-f308-33f708151e27",
        "colab": {
          "base_uri": "https://localhost:8080/"
        }
      },
      "id": "UOSR9miO2CpC",
      "execution_count": null,
      "outputs": [
        {
          "output_type": "stream",
          "name": "stdout",
          "text": [
            "Model: \"sequential_6\"\n",
            "_________________________________________________________________\n",
            " Layer (type)                Output Shape              Param #   \n",
            "=================================================================\n",
            " dense_12 (Dense)            (None, 10)                7850      \n",
            "                                                                 \n",
            " dense_13 (Dense)            (None, 10)                110       \n",
            "                                                                 \n",
            "=================================================================\n",
            "Total params: 7,960\n",
            "Trainable params: 7,960\n",
            "Non-trainable params: 0\n",
            "_________________________________________________________________\n"
          ]
        }
      ]
    },
    {
      "cell_type": "code",
      "source": [
        "#Representar\n",
        "import tensorflow as tf\n",
        "from tensorflow import keras\n",
        "from tensorflow.keras import layers\n",
        "keras.utils.plot_model(network4, \"my_first_model.png\", show_shapes=True)"
      ],
      "metadata": {
        "id": "Ojd115gNEFPz",
        "outputId": "7602f6b1-f9bd-462f-8d6a-e518348028ef",
        "colab": {
          "base_uri": "https://localhost:8080/",
          "height": 312
        }
      },
      "id": "Ojd115gNEFPz",
      "execution_count": null,
      "outputs": [
        {
          "output_type": "execute_result",
          "data": {
            "image/png": "[encoded data removed]",
            "text/plain": [
              "<IPython.core.display.Image object>"
            ]
          },
          "metadata": {},
          "execution_count": 44
        }
      ]
    },
    {
      "cell_type": "code",
      "source": [
        "network4.compile(optimizer='rmsprop',\n",
        "                loss='categorical_crossentropy',\n",
        "                metrics=['accuracy'])"
      ],
      "metadata": {
        "id": "AgGQWU-nEPzZ"
      },
      "id": "AgGQWU-nEPzZ",
      "execution_count": null,
      "outputs": []
    },
    {
      "cell_type": "code",
      "source": [
        "# 7.- ENTRENAMOS LA RED CON EL JUEGO DE DATOS DE ENTRENAMIENTO\n",
        "network4.fit(train_images, one_hot_train_labels, epochs=5, batch_size=128)"
      ],
      "metadata": {
        "id": "0fJQOi68EY8s",
        "outputId": "eede02d7-dd82-40f3-962f-d2bd44ea6ff8",
        "colab": {
          "base_uri": "https://localhost:8080/"
        }
      },
      "id": "0fJQOi68EY8s",
      "execution_count": null,
      "outputs": [
        {
          "output_type": "stream",
          "name": "stdout",
          "text": [
            "Epoch 1/5\n",
            "469/469 [==============================] - 2s 3ms/step - loss: 1.4424 - accuracy: 0.5907\n",
            "Epoch 2/5\n",
            "469/469 [==============================] - 1s 3ms/step - loss: 0.8721 - accuracy: 0.7755\n",
            "Epoch 3/5\n",
            "469/469 [==============================] - 1s 3ms/step - loss: 0.6539 - accuracy: 0.8101\n",
            "Epoch 4/5\n",
            "469/469 [==============================] - 1s 3ms/step - loss: 0.5542 - accuracy: 0.8249\n",
            "Epoch 5/5\n",
            "469/469 [==============================] - 1s 3ms/step - loss: 0.5034 - accuracy: 0.8331\n"
          ]
        },
        {
          "output_type": "execute_result",
          "data": {
            "text/plain": [
              "<keras.callbacks.History at 0x7f0b2d201c10>"
            ]
          },
          "metadata": {},
          "execution_count": 46
        }
      ]
    },
    {
      "cell_type": "code",
      "source": [
        "test_loss, test_acc = network4.evaluate(test_images, one_hot_test_labels)\n",
        "print('test_loss:', test_loss)\n",
        "print('test_acc:', test_acc)"
      ],
      "metadata": {
        "id": "3bN0Y5mP6h51",
        "colab": {
          "base_uri": "https://localhost:8080/"
        },
        "outputId": "965ab376-e188-4fb6-97b2-bc35469ba69c"
      },
      "id": "3bN0Y5mP6h51",
      "execution_count": null,
      "outputs": [
        {
          "output_type": "stream",
          "name": "stdout",
          "text": [
            "313/313 [==============================] - 1s 2ms/step - loss: 0.5103 - accuracy: 0.8240\n",
            "test_loss: 0.5102732181549072\n",
            "test_acc: 0.8240000009536743\n"
          ]
        }
      ]
    },
    {
      "cell_type": "markdown",
      "source": [
        "## Caso 5"
      ],
      "metadata": {
        "id": "Xc2-aI5V2DV6"
      },
      "id": "Xc2-aI5V2DV6"
    },
    {
      "cell_type": "code",
      "source": [
        "from keras import models\n",
        "from keras import layers\n",
        "network5 = models.Sequential()\n",
        "network5.add(layers.Dense(512, activation='relu', input_shape=(28*28,)))\n",
        "network5.add(layers.Dense(10, activation='softmax'))\n",
        "network5.summary()"
      ],
      "metadata": {
        "id": "J9Wky-l42ERV",
        "outputId": "56e62409-c97b-4aac-dcae-b6be13dd5658",
        "colab": {
          "base_uri": "https://localhost:8080/"
        }
      },
      "id": "J9Wky-l42ERV",
      "execution_count": null,
      "outputs": [
        {
          "output_type": "stream",
          "name": "stdout",
          "text": [
            "Model: \"sequential_4\"\n",
            "_________________________________________________________________\n",
            " Layer (type)                Output Shape              Param #   \n",
            "=================================================================\n",
            " dense_8 (Dense)             (None, 512)               401920    \n",
            "                                                                 \n",
            " dense_9 (Dense)             (None, 10)                5130      \n",
            "                                                                 \n",
            "=================================================================\n",
            "Total params: 407,050\n",
            "Trainable params: 407,050\n",
            "Non-trainable params: 0\n",
            "_________________________________________________________________\n"
          ]
        }
      ]
    },
    {
      "cell_type": "code",
      "source": [
        "#Representar\n",
        "import tensorflow as tf\n",
        "from tensorflow import keras\n",
        "from tensorflow.keras import layers\n",
        "keras.utils.plot_model(network5, \"my_first_model.png\", show_shapes=True)"
      ],
      "metadata": {
        "id": "1WQO3JGMEGJl",
        "outputId": "9b73a526-2a17-47a1-df59-af36bdb653d3",
        "colab": {
          "base_uri": "https://localhost:8080/",
          "height": 312
        }
      },
      "id": "1WQO3JGMEGJl",
      "execution_count": null,
      "outputs": [
        {
          "output_type": "execute_result",
          "data": {
            "image/png": "[encoded data removed]",
            "text/plain": [
              "<IPython.core.display.Image object>"
            ]
          },
          "metadata": {},
          "execution_count": 54
        }
      ]
    },
    {
      "cell_type": "code",
      "source": [
        "network5.compile(optimizer='sgd',\n",
        "                loss='categorical_crossentropy',\n",
        "                metrics=['accuracy'])"
      ],
      "metadata": {
        "id": "2lncWX7pERH9"
      },
      "id": "2lncWX7pERH9",
      "execution_count": null,
      "outputs": []
    },
    {
      "cell_type": "code",
      "source": [
        "# 7.- ENTRENAMOS LA RED CON EL JUEGO DE DATOS DE ENTRENAMIENTO\n",
        "network5.fit(train_images, one_hot_train_labels, epochs=5, batch_size=128)"
      ],
      "metadata": {
        "id": "E0qz7MmkEaNb",
        "outputId": "a24936c2-31d1-4601-b83a-f0675d81d008",
        "colab": {
          "base_uri": "https://localhost:8080/"
        }
      },
      "id": "E0qz7MmkEaNb",
      "execution_count": null,
      "outputs": [
        {
          "output_type": "stream",
          "name": "stdout",
          "text": [
            "Epoch 1/5\n",
            "469/469 [==============================] - 4s 9ms/step - loss: 1.0068 - accuracy: 0.7005\n",
            "Epoch 2/5\n",
            "469/469 [==============================] - 6s 14ms/step - loss: 0.6535 - accuracy: 0.7908\n",
            "Epoch 3/5\n",
            "469/469 [==============================] - 4s 9ms/step - loss: 0.5786 - accuracy: 0.8112\n",
            "Epoch 4/5\n",
            "469/469 [==============================] - 4s 8ms/step - loss: 0.5382 - accuracy: 0.8214\n",
            "Epoch 5/5\n",
            "469/469 [==============================] - 5s 10ms/step - loss: 0.5113 - accuracy: 0.8296\n"
          ]
        },
        {
          "output_type": "execute_result",
          "data": {
            "text/plain": [
              "<keras.callbacks.History at 0x7ffaa1faab90>"
            ]
          },
          "metadata": {},
          "execution_count": 56
        }
      ]
    },
    {
      "cell_type": "code",
      "source": [
        "test_loss, test_acc = network5.evaluate(test_images, one_hot_test_labels)\n",
        "print('test_loss:', test_loss)\n",
        "print('test_acc:', test_acc)"
      ],
      "metadata": {
        "id": "mGLoQVOH6pBw",
        "colab": {
          "base_uri": "https://localhost:8080/"
        },
        "outputId": "0faa2fa1-1f63-4d7f-ef4e-94768f7acd4b"
      },
      "id": "mGLoQVOH6pBw",
      "execution_count": null,
      "outputs": [
        {
          "output_type": "stream",
          "name": "stdout",
          "text": [
            "313/313 [==============================] - 1s 3ms/step - loss: 0.5277 - accuracy: 0.8197\n",
            "test_loss: 0.5277107954025269\n",
            "test_acc: 0.8197000026702881\n"
          ]
        }
      ]
    },
    {
      "cell_type": "markdown",
      "source": [
        "## Caso 6"
      ],
      "metadata": {
        "id": "i7D1ybn92E-j"
      },
      "id": "i7D1ybn92E-j"
    },
    {
      "cell_type": "code",
      "source": [
        "from keras import models\n",
        "from keras import layers\n",
        "network6 = models.Sequential()\n",
        "network6.add(layers.Dense(512, activation='relu', input_shape=(28*28,)))\n",
        "network6.add(layers.Dense(10, activation='softmax'))\n",
        "network6.summary()"
      ],
      "metadata": {
        "id": "Q3EMUPAg2Frk",
        "outputId": "3a76a3fe-b4b9-4302-ceed-ed880f243ef6",
        "colab": {
          "base_uri": "https://localhost:8080/"
        }
      },
      "id": "Q3EMUPAg2Frk",
      "execution_count": null,
      "outputs": [
        {
          "output_type": "stream",
          "name": "stdout",
          "text": [
            "Model: \"sequential_5\"\n",
            "_________________________________________________________________\n",
            " Layer (type)                Output Shape              Param #   \n",
            "=================================================================\n",
            " dense_10 (Dense)            (None, 512)               401920    \n",
            "                                                                 \n",
            " dense_11 (Dense)            (None, 10)                5130      \n",
            "                                                                 \n",
            "=================================================================\n",
            "Total params: 407,050\n",
            "Trainable params: 407,050\n",
            "Non-trainable params: 0\n",
            "_________________________________________________________________\n"
          ]
        }
      ]
    },
    {
      "cell_type": "code",
      "source": [
        "#Representar\n",
        "import tensorflow as tf\n",
        "from tensorflow import keras\n",
        "from tensorflow.keras import layers\n",
        "keras.utils.plot_model(network6, \"my_first_model.png\", show_shapes=True)"
      ],
      "metadata": {
        "id": "cmq2asl2EHDS",
        "outputId": "10273b0d-8c56-4cf7-83ab-5e852606f6f0",
        "colab": {
          "base_uri": "https://localhost:8080/",
          "height": 312
        }
      },
      "id": "cmq2asl2EHDS",
      "execution_count": null,
      "outputs": [
        {
          "output_type": "execute_result",
          "data": {
            "image/png": "[encoded data removed]",
            "text/plain": [
              "<IPython.core.display.Image object>"
            ]
          },
          "metadata": {},
          "execution_count": 59
        }
      ]
    },
    {
      "cell_type": "code",
      "source": [
        "network6.compile(optimizer='rmsprop',\n",
        "                loss='categorical_crossentropy',\n",
        "                metrics=['accuracy'])"
      ],
      "metadata": {
        "id": "XCH5Y60QESTC"
      },
      "id": "XCH5Y60QESTC",
      "execution_count": null,
      "outputs": []
    },
    {
      "cell_type": "code",
      "source": [
        "# 7.- ENTRENAMOS LA RED CON EL JUEGO DE DATOS DE ENTRENAMIENTO\n",
        "network6.fit(train_images, one_hot_train_labels, epochs=5, batch_size=128)"
      ],
      "metadata": {
        "id": "HcxTvfyqEbbz",
        "outputId": "c4534556-0990-4fac-9e7e-5f96956b8857",
        "colab": {
          "base_uri": "https://localhost:8080/"
        }
      },
      "id": "HcxTvfyqEbbz",
      "execution_count": null,
      "outputs": [
        {
          "output_type": "stream",
          "name": "stdout",
          "text": [
            "Epoch 1/5\n",
            "469/469 [==============================] - 6s 11ms/step - loss: 0.5697 - accuracy: 0.7989\n",
            "Epoch 2/5\n",
            "469/469 [==============================] - 5s 11ms/step - loss: 0.3819 - accuracy: 0.8601\n",
            "Epoch 3/5\n",
            "469/469 [==============================] - 5s 11ms/step - loss: 0.3370 - accuracy: 0.8757\n",
            "Epoch 4/5\n",
            "469/469 [==============================] - 5s 11ms/step - loss: 0.3094 - accuracy: 0.8846\n",
            "Epoch 5/5\n",
            "469/469 [==============================] - 5s 11ms/step - loss: 0.2926 - accuracy: 0.8916\n"
          ]
        },
        {
          "output_type": "execute_result",
          "data": {
            "text/plain": [
              "<keras.callbacks.History at 0x7ffa9b42add0>"
            ]
          },
          "metadata": {},
          "execution_count": 61
        }
      ]
    },
    {
      "cell_type": "code",
      "source": [
        "test_loss, test_acc = network6.evaluate(test_images, one_hot_test_labels)\n",
        "print('test_loss:', test_loss)\n",
        "print('test_acc:', test_acc)"
      ],
      "metadata": {
        "id": "_lOr07f-6tt9",
        "colab": {
          "base_uri": "https://localhost:8080/"
        },
        "outputId": "cba02ee9-a55b-48a5-ea09-51e7806ae605"
      },
      "id": "_lOr07f-6tt9",
      "execution_count": null,
      "outputs": [
        {
          "output_type": "stream",
          "name": "stdout",
          "text": [
            "313/313 [==============================] - 1s 3ms/step - loss: 0.3491 - accuracy: 0.8749\n",
            "test_loss: 0.3490770757198334\n",
            "test_acc: 0.8748999834060669\n"
          ]
        }
      ]
    },
    {
      "cell_type": "markdown",
      "source": [
        "## Caso 7"
      ],
      "metadata": {
        "id": "4OdWbAE22Gz7"
      },
      "id": "4OdWbAE22Gz7"
    },
    {
      "cell_type": "code",
      "source": [
        "from keras import models\n",
        "from keras import layers\n",
        "network7 = models.Sequential()\n",
        "network7.add(layers.Dense(512, activation='sigmoid', input_shape=(28*28,)))\n",
        "network7.add(layers.Dense(10, activation='softmax'))\n",
        "network7.summary()"
      ],
      "metadata": {
        "id": "o8eVZNk22H6M",
        "outputId": "c4def7ce-e6e4-4dc7-8d20-736a66038096",
        "colab": {
          "base_uri": "https://localhost:8080/"
        }
      },
      "id": "o8eVZNk22H6M",
      "execution_count": null,
      "outputs": [
        {
          "output_type": "stream",
          "name": "stdout",
          "text": [
            "Model: \"sequential_6\"\n",
            "_________________________________________________________________\n",
            " Layer (type)                Output Shape              Param #   \n",
            "=================================================================\n",
            " dense_12 (Dense)            (None, 512)               401920    \n",
            "                                                                 \n",
            " dense_13 (Dense)            (None, 10)                5130      \n",
            "                                                                 \n",
            "=================================================================\n",
            "Total params: 407,050\n",
            "Trainable params: 407,050\n",
            "Non-trainable params: 0\n",
            "_________________________________________________________________\n"
          ]
        }
      ]
    },
    {
      "cell_type": "code",
      "source": [
        "#Representar\n",
        "import tensorflow as tf\n",
        "from tensorflow import keras\n",
        "from tensorflow.keras import layers\n",
        "keras.utils.plot_model(network7, \"my_first_model.png\", show_shapes=True)"
      ],
      "metadata": {
        "id": "Nju7oxvtEIr-",
        "outputId": "f05f38e9-935f-45d3-81e8-02e35f7317a6",
        "colab": {
          "base_uri": "https://localhost:8080/",
          "height": 312
        }
      },
      "id": "Nju7oxvtEIr-",
      "execution_count": null,
      "outputs": [
        {
          "output_type": "execute_result",
          "data": {
            "image/png": "[encoded data removed]",
            "text/plain": [
              "<IPython.core.display.Image object>"
            ]
          },
          "metadata": {},
          "execution_count": 64
        }
      ]
    },
    {
      "cell_type": "code",
      "source": [
        "network7.compile(optimizer='sgd',\n",
        "                loss='categorical_crossentropy',\n",
        "                metrics=['accuracy'])"
      ],
      "metadata": {
        "id": "Nkl8tjGoETWS"
      },
      "id": "Nkl8tjGoETWS",
      "execution_count": null,
      "outputs": []
    },
    {
      "cell_type": "code",
      "source": [
        "# 7.- ENTRENAMOS LA RED CON EL JUEGO DE DATOS DE ENTRENAMIENTO\n",
        "network7.fit(train_images, one_hot_train_labels, epochs=5, batch_size=128)"
      ],
      "metadata": {
        "id": "yKwPir_NEdbd",
        "outputId": "955232ae-233a-47b8-951e-e1870e6a4327",
        "colab": {
          "base_uri": "https://localhost:8080/"
        }
      },
      "id": "yKwPir_NEdbd",
      "execution_count": null,
      "outputs": [
        {
          "output_type": "stream",
          "name": "stdout",
          "text": [
            "Epoch 1/5\n",
            "469/469 [==============================] - 4s 9ms/step - loss: 1.6989 - accuracy: 0.5727\n",
            "Epoch 2/5\n",
            "469/469 [==============================] - 5s 11ms/step - loss: 1.1239 - accuracy: 0.7104\n",
            "Epoch 3/5\n",
            "469/469 [==============================] - 4s 9ms/step - loss: 0.9204 - accuracy: 0.7298\n",
            "Epoch 4/5\n",
            "469/469 [==============================] - 4s 9ms/step - loss: 0.8195 - accuracy: 0.7431\n",
            "Epoch 5/5\n",
            "469/469 [==============================] - 4s 8ms/step - loss: 0.7587 - accuracy: 0.7520\n"
          ]
        },
        {
          "output_type": "execute_result",
          "data": {
            "text/plain": [
              "<keras.callbacks.History at 0x7ffaa1f41210>"
            ]
          },
          "metadata": {},
          "execution_count": 66
        }
      ]
    },
    {
      "cell_type": "code",
      "source": [
        "test_loss, test_acc = network7.evaluate(test_images, one_hot_test_labels)\n",
        "print('test_loss:', test_loss)\n",
        "print('test_acc:', test_acc)"
      ],
      "metadata": {
        "id": "wSP8GULF6wqj",
        "colab": {
          "base_uri": "https://localhost:8080/"
        },
        "outputId": "cf0ee013-cba8-4d1b-e071-016f86f7e6eb"
      },
      "id": "wSP8GULF6wqj",
      "execution_count": null,
      "outputs": [
        {
          "output_type": "stream",
          "name": "stdout",
          "text": [
            "313/313 [==============================] - 1s 3ms/step - loss: 0.7479 - accuracy: 0.7523\n",
            "test_loss: 0.7479049563407898\n",
            "test_acc: 0.7523000240325928\n"
          ]
        }
      ]
    },
    {
      "cell_type": "markdown",
      "source": [
        "##Caso 7.2"
      ],
      "metadata": {
        "id": "zwte0GKUAuox"
      },
      "id": "zwte0GKUAuox"
    },
    {
      "cell_type": "code",
      "source": [
        "network72 = models.Sequential()\n",
        "network72.add(layers.Dense(512, activation='sigmoid', input_shape=(28*28,)))\n",
        "network72.add(layers.Dense(10, activation='softmax'))\n",
        "network72.summary()"
      ],
      "metadata": {
        "colab": {
          "base_uri": "https://localhost:8080/"
        },
        "id": "ZxBYx3ogA6yY",
        "outputId": "6a710bf5-25c7-4486-8799-c1eb2a221d10"
      },
      "id": "ZxBYx3ogA6yY",
      "execution_count": null,
      "outputs": [
        {
          "output_type": "stream",
          "name": "stdout",
          "text": [
            "Model: \"sequential_9\"\n",
            "_________________________________________________________________\n",
            " Layer (type)                Output Shape              Param #   \n",
            "=================================================================\n",
            " dense_18 (Dense)            (None, 512)               401920    \n",
            "                                                                 \n",
            " dense_19 (Dense)            (None, 10)                5130      \n",
            "                                                                 \n",
            "=================================================================\n",
            "Total params: 407,050\n",
            "Trainable params: 407,050\n",
            "Non-trainable params: 0\n",
            "_________________________________________________________________\n"
          ]
        }
      ]
    },
    {
      "cell_type": "code",
      "source": [
        "keras.utils.plot_model(network72, \"my_first_model.png\", show_shapes=True)"
      ],
      "metadata": {
        "colab": {
          "base_uri": "https://localhost:8080/",
          "height": 312
        },
        "id": "RbQTM_oQAx8D",
        "outputId": "40ff5ebe-d715-4590-bdea-07a20d81288f"
      },
      "id": "RbQTM_oQAx8D",
      "execution_count": null,
      "outputs": [
        {
          "output_type": "execute_result",
          "data": {
            "image/png": "[encoded data removed]",
            "text/plain": [
              "<IPython.core.display.Image object>"
            ]
          },
          "metadata": {},
          "execution_count": 83
        }
      ]
    },
    {
      "cell_type": "code",
      "source": [
        "network72.compile(optimizer='sgd',\n",
        "                loss='categorical_crossentropy',\n",
        "                metrics=['accuracy'])"
      ],
      "metadata": {
        "id": "fv_EtaouAyUN"
      },
      "id": "fv_EtaouAyUN",
      "execution_count": null,
      "outputs": []
    },
    {
      "cell_type": "code",
      "source": [
        "network72.fit(train_images, one_hot_train_labels, epochs=25, batch_size=128)"
      ],
      "metadata": {
        "colab": {
          "base_uri": "https://localhost:8080/"
        },
        "id": "XSkiEbk3Ayen",
        "outputId": "f9cfceb7-1e36-47eb-8699-2c79bd7bcb95"
      },
      "id": "XSkiEbk3Ayen",
      "execution_count": null,
      "outputs": [
        {
          "output_type": "stream",
          "name": "stdout",
          "text": [
            "Epoch 1/25\n",
            "469/469 [==============================] - 4s 8ms/step - loss: 0.8778 - accuracy: 0.7345\n",
            "Epoch 2/25\n",
            "469/469 [==============================] - 4s 8ms/step - loss: 0.7961 - accuracy: 0.7470\n",
            "Epoch 3/25\n",
            "469/469 [==============================] - 4s 9ms/step - loss: 0.7438 - accuracy: 0.7558\n",
            "Epoch 4/25\n",
            "469/469 [==============================] - 4s 9ms/step - loss: 0.7073 - accuracy: 0.7640\n",
            "Epoch 5/25\n",
            "469/469 [==============================] - 4s 9ms/step - loss: 0.6792 - accuracy: 0.7696\n",
            "Epoch 6/25\n",
            "469/469 [==============================] - 4s 9ms/step - loss: 0.6568 - accuracy: 0.7754\n",
            "Epoch 7/25\n",
            "469/469 [==============================] - 4s 9ms/step - loss: 0.6381 - accuracy: 0.7813\n",
            "Epoch 8/25\n",
            "469/469 [==============================] - 4s 9ms/step - loss: 0.6221 - accuracy: 0.7855\n",
            "Epoch 9/25\n",
            "469/469 [==============================] - 4s 9ms/step - loss: 0.6082 - accuracy: 0.7912\n",
            "Epoch 10/25\n",
            "469/469 [==============================] - 4s 8ms/step - loss: 0.5959 - accuracy: 0.7945\n",
            "Epoch 11/25\n",
            "469/469 [==============================] - 4s 9ms/step - loss: 0.5851 - accuracy: 0.7985\n",
            "Epoch 12/25\n",
            "469/469 [==============================] - 5s 11ms/step - loss: 0.5754 - accuracy: 0.8017\n",
            "Epoch 13/25\n",
            "469/469 [==============================] - 4s 9ms/step - loss: 0.5666 - accuracy: 0.8044\n",
            "Epoch 14/25\n",
            "469/469 [==============================] - 5s 10ms/step - loss: 0.5587 - accuracy: 0.8069\n",
            "Epoch 15/25\n",
            "469/469 [==============================] - 4s 9ms/step - loss: 0.5513 - accuracy: 0.8096\n",
            "Epoch 16/25\n",
            "469/469 [==============================] - 4s 9ms/step - loss: 0.5448 - accuracy: 0.8114\n",
            "Epoch 17/25\n",
            "469/469 [==============================] - 4s 9ms/step - loss: 0.5386 - accuracy: 0.8136\n",
            "Epoch 18/25\n",
            "469/469 [==============================] - 4s 8ms/step - loss: 0.5329 - accuracy: 0.8162\n",
            "Epoch 19/25\n",
            "469/469 [==============================] - 4s 9ms/step - loss: 0.5277 - accuracy: 0.8170\n",
            "Epoch 20/25\n",
            "469/469 [==============================] - 4s 8ms/step - loss: 0.5227 - accuracy: 0.8192\n",
            "Epoch 21/25\n",
            "469/469 [==============================] - 4s 8ms/step - loss: 0.5183 - accuracy: 0.8205\n",
            "Epoch 22/25\n",
            "469/469 [==============================] - 5s 10ms/step - loss: 0.5140 - accuracy: 0.8227\n",
            "Epoch 23/25\n",
            "469/469 [==============================] - 4s 9ms/step - loss: 0.5102 - accuracy: 0.8236\n",
            "Epoch 24/25\n",
            "469/469 [==============================] - 4s 8ms/step - loss: 0.5063 - accuracy: 0.8253\n",
            "Epoch 25/25\n",
            "469/469 [==============================] - 4s 8ms/step - loss: 0.5031 - accuracy: 0.8259\n"
          ]
        },
        {
          "output_type": "execute_result",
          "data": {
            "text/plain": [
              "<keras.callbacks.History at 0x7ffa8e7878d0>"
            ]
          },
          "metadata": {},
          "execution_count": 86
        }
      ]
    },
    {
      "cell_type": "code",
      "source": [
        "test_loss, test_acc = network72.evaluate(test_images, one_hot_test_labels)\n",
        "print('test_loss:', test_loss)\n",
        "print('test_acc:', test_acc)"
      ],
      "metadata": {
        "colab": {
          "base_uri": "https://localhost:8080/"
        },
        "id": "wESjXGPjAsRl",
        "outputId": "48e7e467-098a-4823-b24d-7ae6c4067fb4"
      },
      "id": "wESjXGPjAsRl",
      "execution_count": null,
      "outputs": [
        {
          "output_type": "stream",
          "name": "stdout",
          "text": [
            "313/313 [==============================] - 1s 3ms/step - loss: 0.5255 - accuracy: 0.8133\n",
            "test_loss: 0.5255478024482727\n",
            "test_acc: 0.8133000135421753\n"
          ]
        }
      ]
    },
    {
      "cell_type": "markdown",
      "source": [
        "## Caso 8"
      ],
      "metadata": {
        "id": "7Kcc87l82JAa"
      },
      "id": "7Kcc87l82JAa"
    },
    {
      "cell_type": "code",
      "source": [
        "from keras import models\n",
        "from keras import layers\n",
        "network8 = models.Sequential()\n",
        "network8.add(layers.Dense(512, activation='sigmoid', input_shape=(28*28,)))\n",
        "network8.add(layers.Dense(10, activation='softmax'))\n",
        "network8.summary()"
      ],
      "metadata": {
        "id": "8kJBhvdb2M9W",
        "outputId": "2720d725-c27e-421c-c59d-b1712a5e09c8",
        "colab": {
          "base_uri": "https://localhost:8080/"
        }
      },
      "id": "8kJBhvdb2M9W",
      "execution_count": null,
      "outputs": [
        {
          "output_type": "stream",
          "name": "stdout",
          "text": [
            "Model: \"sequential_9\"\n",
            "_________________________________________________________________\n",
            " Layer (type)                Output Shape              Param #   \n",
            "=================================================================\n",
            " dense_18 (Dense)            (None, 512)               401920    \n",
            "                                                                 \n",
            " dense_19 (Dense)            (None, 10)                5130      \n",
            "                                                                 \n",
            "=================================================================\n",
            "Total params: 407,050\n",
            "Trainable params: 407,050\n",
            "Non-trainable params: 0\n",
            "_________________________________________________________________\n"
          ]
        }
      ]
    },
    {
      "cell_type": "markdown",
      "source": [],
      "metadata": {
        "id": "ifFnzcZYLCM2"
      },
      "id": "ifFnzcZYLCM2"
    },
    {
      "cell_type": "code",
      "source": [
        "#Representar\n",
        "import tensorflow as tf\n",
        "from tensorflow import keras\n",
        "from tensorflow.keras import layers\n",
        "keras.utils.plot_model(network8, \"my_first_model.png\", show_shapes=True)"
      ],
      "metadata": {
        "id": "CHDYmjnVEJ61",
        "outputId": "447d5b4a-9540-4f86-f9da-47b796bdc1e1",
        "colab": {
          "base_uri": "https://localhost:8080/",
          "height": 422
        }
      },
      "id": "CHDYmjnVEJ61",
      "execution_count": null,
      "outputs": [
        {
          "output_type": "execute_result",
          "data": {
            "image/png": "[encoded data removed]",
            "text/plain": [
              "<IPython.core.display.Image object>"
            ]
          },
          "metadata": {},
          "execution_count": 50
        }
      ]
    },
    {
      "cell_type": "code",
      "source": [
        "network8.compile(optimizer='rmsprop',\n",
        "                loss='categorical_crossentropy',\n",
        "                metrics=['accuracy'])"
      ],
      "metadata": {
        "id": "TFabov1IEUgU"
      },
      "id": "TFabov1IEUgU",
      "execution_count": null,
      "outputs": []
    },
    {
      "cell_type": "code",
      "source": [
        "# 7.- ENTRENAMOS LA RED CON EL JUEGO DE DATOS DE ENTRENAMIENTO\n",
        "network8.fit(train_images, one_hot_train_labels, epochs=5, batch_size=128)"
      ],
      "metadata": {
        "id": "i8W5nsNuEgil",
        "outputId": "91b28fbc-37fa-40c6-da6b-ef09bd6c31a4",
        "colab": {
          "base_uri": "https://localhost:8080/"
        }
      },
      "id": "i8W5nsNuEgil",
      "execution_count": null,
      "outputs": [
        {
          "output_type": "stream",
          "name": "stdout",
          "text": [
            "Epoch 1/5\n",
            "469/469 [==============================] - 6s 11ms/step - loss: 0.5926 - accuracy: 0.7904\n",
            "Epoch 2/5\n",
            "469/469 [==============================] - 7s 15ms/step - loss: 0.4289 - accuracy: 0.8442\n",
            "Epoch 3/5\n",
            "469/469 [==============================] - 6s 13ms/step - loss: 0.3851 - accuracy: 0.8603\n",
            "Epoch 4/5\n",
            "469/469 [==============================] - 6s 13ms/step - loss: 0.3586 - accuracy: 0.8691\n",
            "Epoch 5/5\n",
            "469/469 [==============================] - 5s 11ms/step - loss: 0.3384 - accuracy: 0.8760\n"
          ]
        },
        {
          "output_type": "execute_result",
          "data": {
            "text/plain": [
              "<keras.callbacks.History at 0x7ffa9b2a6b10>"
            ]
          },
          "metadata": {},
          "execution_count": 71
        }
      ]
    },
    {
      "cell_type": "code",
      "source": [
        "test_loss, test_acc = network8.evaluate(test_images, one_hot_test_labels)\n",
        "print('test_loss:', test_loss)\n",
        "print('test_acc:', test_acc)"
      ],
      "metadata": {
        "id": "s3o3CXAp61sG",
        "colab": {
          "base_uri": "https://localhost:8080/"
        },
        "outputId": "d96a14f0-d0b0-4d1c-8802-244a5be8baa3"
      },
      "id": "s3o3CXAp61sG",
      "execution_count": null,
      "outputs": [
        {
          "output_type": "stream",
          "name": "stdout",
          "text": [
            "313/313 [==============================] - 1s 3ms/step - loss: 0.3877 - accuracy: 0.8590\n",
            "test_loss: 0.3877131938934326\n",
            "test_acc: 0.859000027179718\n"
          ]
        }
      ]
    },
    {
      "cell_type": "markdown",
      "source": [
        "##Comparación predicción resultados imagen test 6"
      ],
      "metadata": {
        "id": "2vBPWY-g62f8"
      },
      "id": "2vBPWY-g62f8"
    },
    {
      "cell_type": "code",
      "source": [
        "predictions = network.predict(test_images)\n",
        "predictions2 = network2.predict(test_images)\n",
        "predictions3 = network3.predict(test_images)\n",
        "predictions4 = network4.predict(test_images)\n",
        "predictions5 = network5.predict(test_images)\n",
        "predictions6 = network6.predict(test_images)\n",
        "predictions7 = network7.predict(test_images)\n",
        "predictions8 = network8.predict(test_images)"
      ],
      "metadata": {
        "id": "V0LiVj180Vb-",
        "outputId": "c625d5bb-8be7-41a9-a834-3bd1f8783d88",
        "colab": {
          "base_uri": "https://localhost:8080/"
        }
      },
      "id": "V0LiVj180Vb-",
      "execution_count": null,
      "outputs": [
        {
          "output_type": "stream",
          "name": "stdout",
          "text": [
            "313/313 [==============================] - 1s 1ms/step\n",
            "313/313 [==============================] - 1s 2ms/step\n",
            "313/313 [==============================] - 0s 1ms/step\n",
            "313/313 [==============================] - 1s 1ms/step\n",
            "313/313 [==============================] - 1s 3ms/step\n",
            "313/313 [==============================] - 1s 3ms/step\n",
            "313/313 [==============================] - 1s 3ms/step\n",
            "313/313 [==============================] - 1s 3ms/step\n"
          ]
        }
      ]
    },
    {
      "cell_type": "code",
      "source": [
        "i = 0\n",
        "plt.figure(figsize=(6,3))\n",
        "plt.subplot(1,2,1)\n",
        "plot_image(5, predictions[5], test_labels, test_images.reshape(10000,28,28))\n",
        "plt.subplot(1,2,2)\n",
        "plot_value_array(5, predictions[5], test_labels)\n",
        "plt.show()\n",
        "##\n",
        "plt.figure(figsize=(6,3))\n",
        "plt.subplot(1,2,1)\n",
        "plot_image(5, predictions2[5], test_labels, test_images.reshape(10000,28,28))\n",
        "plt.subplot(1,2,2)\n",
        "plot_value_array(5, predictions2[5], test_labels)\n",
        "plt.show()\n",
        "##\n",
        "plt.figure(figsize=(6,3))\n",
        "plt.subplot(1,2,1)\n",
        "plot_image(5, predictions3[5], test_labels, test_images.reshape(10000,28,28))\n",
        "plt.subplot(1,2,2)\n",
        "plot_value_array(5, predictions3[5], test_labels)\n",
        "plt.show()\n",
        "##\n",
        "plt.figure(figsize=(6,3))\n",
        "plt.subplot(1,2,1)\n",
        "plot_image(5, predictions4[5], test_labels, test_images.reshape(10000,28,28))\n",
        "plt.subplot(1,2,2)\n",
        "plot_value_array(5, predictions4[5], test_labels)\n",
        "plt.show()\n",
        "##\n",
        "plt.figure(figsize=(6,3))\n",
        "plt.subplot(1,2,1)\n",
        "plot_image(5, predictions5[5], test_labels, test_images.reshape(10000,28,28))\n",
        "plt.subplot(1,2,2)\n",
        "plot_value_array(5, predictions5[5], test_labels)\n",
        "plt.show()\n",
        "##\n",
        "plt.figure(figsize=(6,3))\n",
        "plt.subplot(1,2,1)\n",
        "plot_image(5, predictions6[5], test_labels, test_images.reshape(10000,28,28))\n",
        "plt.subplot(1,2,2)\n",
        "plot_value_array(5, predictions6[5], test_labels)\n",
        "plt.show()\n",
        "##\n",
        "plt.figure(figsize=(6,3))\n",
        "plt.subplot(1,2,1)\n",
        "plot_image(5, predictions7[5], test_labels, test_images.reshape(10000,28,28))\n",
        "plt.subplot(1,2,2)\n",
        "plot_value_array(5, predictions7[5], test_labels)\n",
        "plt.show()\n",
        "##\n",
        "plt.figure(figsize=(6,3))\n",
        "plt.subplot(1,2,1)\n",
        "plot_image(5, predictions8[5], test_labels, test_images.reshape(10000,28,28))\n",
        "plt.subplot(1,2,2)\n",
        "plot_value_array(5, predictions8[5], test_labels)\n",
        "plt.show()"
      ],
      "metadata": {
        "id": "xQMoTXUA0a2O",
        "outputId": "2d4e28e0-5d09-495f-ddec-717851028bf7",
        "colab": {
          "base_uri": "https://localhost:8080/",
          "height": 1000
        }
      },
      "id": "xQMoTXUA0a2O",
      "execution_count": null,
      "outputs": [
        {
          "output_type": "display_data",
          "data": {
            "text/plain": [
              "<Figure size 432x216 with 2 Axes>"
            ],
            "image/png": "[encoded data removed]"
          },
          "metadata": {
            "needs_background": "light"
          }
        },
        {
          "output_type": "display_data",
          "data": {
            "text/plain": [
              "<Figure size 432x216 with 2 Axes>"
            ],
            "image/png": "[encoded data removed]"
          },
          "metadata": {
            "needs_background": "light"
          }
        },
        {
          "output_type": "display_data",
          "data": {
            "text/plain": [
              "<Figure size 432x216 with 2 Axes>"
            ],
            "image/png": "[encoded data removed]"
          },
          "metadata": {
            "needs_background": "light"
          }
        },
        {
          "output_type": "display_data",
          "data": {
            "text/plain": [
              "<Figure size 432x216 with 2 Axes>"
            ],
            "image/png": "[encoded data removed]"
          },
          "metadata": {
            "needs_background": "light"
          }
        },
        {
          "output_type": "display_data",
          "data": {
            "text/plain": [
              "<Figure size 432x216 with 2 Axes>"
            ],
            "image/png": "[encoded data removed]"
          },
          "metadata": {
            "needs_background": "light"
          }
        },
        {
          "output_type": "display_data",
          "data": {
            "text/plain": [
              "<Figure size 432x216 with 2 Axes>"
            ],
            "image/png": "[encoded data removed]"
          },
          "metadata": {
            "needs_background": "light"
          }
        },
        {
          "output_type": "display_data",
          "data": {
            "text/plain": [
              "<Figure size 432x216 with 2 Axes>"
            ],
            "image/png": "[encoded data removed]"
          },
          "metadata": {
            "needs_background": "light"
          }
        },
        {
          "output_type": "display_data",
          "data": {
            "text/plain": [
              "<Figure size 432x216 with 2 Axes>"
            ],
            "image/png": "[encoded data removed]"
          },
          "metadata": {
            "needs_background": "light"
          }
        }
      ]
    }
  ],
  "metadata": {
    "kernelspec": {
      "display_name": "Python 3 (ipykernel)",
      "language": "python",
      "name": "python3"
    },
    "language_info": {
      "codemirror_mode": {
        "name": "ipython",
        "version": 3
      },
      "file_extension": ".py",
      "mimetype": "text/x-python",
      "name": "python",
      "nbconvert_exporter": "python",
      "pygments_lexer": "ipython3",
      "version": "3.8.8"
    },
    "colab": {
      "provenance": []
    }
  },
  "nbformat": 4,
  "nbformat_minor": 5
}